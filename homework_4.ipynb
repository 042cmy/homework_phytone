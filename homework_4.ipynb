{
 "cells": [
  {
   "cell_type": "code",
   "execution_count": 39,
   "metadata": {},
   "outputs": [
    {
     "name": "stdout",
     "output_type": "stream",
     "text": [
      "cat dog\n",
      "dog pig\n",
      "ham bird\n",
      "pig ham\n",
      "\n"
     ]
    }
   ],
   "source": [
    "file = open('s.txt','r')\n",
    "s = file.read()\n",
    "words = s.split('\\n')\n",
    "file.close()\n",
    "\n",
    "words.sort()\n",
    "\n",
    "\n",
    "result = ''\n",
    "for x in words: #txt 파일에 저장할 문자열을 만듬\n",
    "    result = result + x + '\\n'\n",
    "    \n",
    "print(result)\n",
    "    \n",
    "file = open('s1.txt','w',encoding='UTF-8')\n",
    "file.write(result)\n",
    "file.close()"
   ]
  },
  {
   "cell_type": "code",
   "execution_count": 40,
   "metadata": {},
   "outputs": [
    {
     "name": "stdout",
     "output_type": "stream",
     "text": [
      "ham bird\n",
      "cat dog\n",
      "pig ham\n",
      "dog pig\n",
      "\n"
     ]
    }
   ],
   "source": [
    "file = open('s.txt','r')\n",
    "s = file.read()\n",
    "words = s.split('\\n')\n",
    "file.close()\n",
    "\n",
    "temp = {}\n",
    "\n",
    "for index, line in enumerate(words) :\n",
    "    compare = line.split()  # 한 라인에서 첫번째 단어를 정렬기준\n",
    "    if(not(compare[1] in temp)):\n",
    "        temp[compare[1]] = index\n",
    "    else: # 각 라인들의 첫번째 단어의 중복이 발생한 경우 뒤에 나온 단어가 뒤로간다.\n",
    "        count = 1\n",
    "        while(count == 0):\n",
    "            if(not(compare[1] + str(count) in temp)):\n",
    "                temp[compare[1] + str(count)] = index\n",
    "                count = 0\n",
    "            else:\n",
    "                count = count + 1\n",
    "    \n",
    "items = list(temp.items())\n",
    "items.sort()\n",
    "\n",
    "result = []\n",
    "for x in items: # 기존의 라인을 실질적으로 정렬\n",
    "    result.append(words[x[1]])\n",
    "\n",
    "result_string ='' # 텍스트 파일에 저장하기 위해서 변환\n",
    "for x in result:\n",
    "    result_string = result_string + x + '\\n'\n",
    "print(result_string)\n",
    "    \n",
    "file = open('s2.txt','w',encoding='UTF-8')\n",
    "file.write(result_string)\n",
    "file.close()\n",
    "\n",
    "    "
   ]
  },
  {
   "cell_type": "code",
   "execution_count": 41,
   "metadata": {},
   "outputs": [
    {
     "name": "stdout",
     "output_type": "stream",
     "text": [
      "pig ham cat \n",
      "dog ham bird \n",
      "dog pig \n"
     ]
    }
   ],
   "source": [
    "file = open('s.txt','r')\n",
    "s = file.read()\n",
    "words = s.split()\n",
    "file.close()\n",
    "\n",
    "result =''\n",
    "for index, word in enumerate(words):\n",
    "    result = result + word + ' '\n",
    "    if((index+1)%3 == 0): # 각 단어가 3번째 나올때마다 \\n를 추가한다.\n",
    "        result = result + '\\n'\n",
    "print(result)\n",
    "\n",
    "file = open('s3.txt','w')\n",
    "file.write(result)\n",
    "file.close()"
   ]
  },
  {
   "cell_type": "code",
   "execution_count": 42,
   "metadata": {
    "scrolled": true
   },
   "outputs": [
    {
     "name": "stdout",
     "output_type": "stream",
     "text": [
      "Welcome to Our Service\n",
      "\n",
      "1.Sign Up\n",
      "2.Sign In\n",
      "3.Quit\n",
      "1\n",
      "ID: ab\n",
      "Password: ab\n",
      "Name: ab\n",
      "School: ab\n",
      "Welcome to Our Service\n",
      "\n",
      "1.Sign Up\n",
      "2.Sign In\n",
      "3.Quit\n",
      "2\n",
      "ID: ab\n",
      "Password: b\n",
      "Sorry, the entered password is not correct.\n",
      "Password: ab\n",
      "Hello[ab]!\n",
      "Welcome to Our Service\n",
      "\n",
      "1.Sign Up\n",
      "2.Sign In\n",
      "3.Quit\n",
      "2\n",
      "ID: abc\n",
      "Password: ab\n",
      "Sorry, you are not a registered member.\n",
      "ID: ab\n",
      "Password: ab\n",
      "Hello[ab]!\n",
      "Welcome to Our Service\n",
      "\n",
      "1.Sign Up\n",
      "2.Sign In\n",
      "3.Quit\n",
      "3\n"
     ]
    }
   ],
   "source": [
    "import base64 #문자를 인코딩, 디코딩 하기 위해서 사용\n",
    "\n",
    "def is_had_ID(ID): #access 파일에 ID가 있으면 True 반환\n",
    "    file = open('access.txt','r')\n",
    "    s = file.read()\n",
    "    words = s.split(\"\\n\")\n",
    "    file.close()\n",
    "    for x in words: #access 파일에서 모든 라인의 ':' 앞에있는 단어가 ID  \n",
    "        compare = x.split(':')\n",
    "        if(compare[0] == ID):\n",
    "            return True\n",
    "        else:\n",
    "            return False\n",
    "def is_member(ID,Password): #access 파일에 ID와 PW가 등록되었는지 확인\n",
    "    file = open('access.txt','r')\n",
    "    s = file.read()\n",
    "    words = s.split(\"\\n\")\n",
    "    file.close()\n",
    "    for x in words:\n",
    "        compare = x.split(\":\") #access 파일에서 모든 라인의 ':' 앞에있는 단어가 ID\n",
    "        compare_ID = compare[0]\n",
    "        compare = compare[1].split(\",\") #access파일에서 ':' ~ ',' 사이에 있는 단어가 PW\n",
    "        a = compare[0].encode('utf-8')\n",
    "        compare_Password = str(base64.b64decode(a), encoding='utf-8')#PW decoding\n",
    "        if(ID == compare_ID and Password == compare_Password):\n",
    "            return True # ID와 PW가 일치하는 라인이 있으면 True\n",
    "        else :\n",
    "            return False\n",
    "\n",
    "\n",
    "s = '' #개인정보가 담긴 문자열(프로그램을 실행시키면 access파일이 공백으로 초기화)\n",
    "file = open('access.txt','w')\n",
    "file.write(s)\n",
    "file.close()\n",
    "\n",
    "print (\"\"\"Welcome to Our Service\n",
    "\n",
    "1.Sign Up\n",
    "2.Sign In\n",
    "3.Quit\"\"\")\n",
    "choice = int(input())\n",
    "\n",
    "while(choice != 3): #choice가 3이면 break\n",
    "    if(choice == 1): #회원 가입\n",
    "        ID = input('ID: ')\n",
    "        if(is_had_ID(ID)):\n",
    "            while(not(is_had_ID(ID))):\n",
    "                print(\"Sorry, you are not a registered member.\")\n",
    "                ID = input('ID: ')\n",
    "        Password = input('Password: ')\n",
    "        Name = input('Name: ')\n",
    "        School = input('School: ')\n",
    "        \n",
    "        #PW encoding\n",
    "        string_s = Password.encode('utf-8')\n",
    "        string_e = base64.b64encode(string_s)\n",
    "        string_e = string_e.decode('utf-8')\n",
    "        \n",
    "        #access 파일이 공백일때와 공백이 아닐때로 나눔\n",
    "        if(s == ''):\n",
    "            s = s + ID + ':' + string_e + ',' + Name + ','+ School\n",
    "            file = open('access.txt','w')\n",
    "            file.write(s)\n",
    "            file.close()\n",
    "        else:\n",
    "            s = '\\n' + s +  ID + ':' + string_e + ',' + Name + ','+ School\n",
    "            file = open('access.txt','w')\n",
    "            file.write(s)\n",
    "            file.close()\n",
    "    elif(choice == 2): #로그인\n",
    "        ID = input('ID: ')\n",
    "        Password = input('Password: ')\n",
    "        while(not(is_member(ID,Password))):\n",
    "            if(is_had_ID(ID)): #ID는 맞고 PW가 틀릴 경우\n",
    "                print(\"Sorry, the entered password is not correct.\")\n",
    "                Password = input('Password: ')\n",
    "            else: #ID가 존재하지 않는 경우\n",
    "                print(\"Sorry, you are not a registered member.\")\n",
    "                ID = input('ID: ')\n",
    "                Password = input('Password: ')\n",
    "        print(\"Hello\" + '[' + ID + ']' + '!')\n",
    "    elif(choice == 3): #종료\n",
    "        break\n",
    "    print (\"\"\"Welcome to Our Service\n",
    "\n",
    "1.Sign Up\n",
    "2.Sign In\n",
    "3.Quit\"\"\")\n",
    "    choice = int(input()) #종료를 시킬때까지 반복\n",
    "\n",
    "    "
   ]
  },
  {
   "cell_type": "code",
   "execution_count": 43,
   "metadata": {},
   "outputs": [
    {
     "name": "stdout",
     "output_type": "stream",
     "text": [
      "인코딩 합니다 문자열을 입력해 주세요: \n",
      "YWJj\n",
      "디코딩 합니다 문자열을 입력해 주세요: \n",
      "b'abc'\n",
      "abc\n"
     ]
    }
   ],
   "source": [
    "#base64 모듈 사용법\n",
    "import base64\n",
    "\n",
    "print(\"인코딩 합니다 문자열을 입력해 주세요: \")\n",
    "string_s = 'abc'.encode('utf-8')\n",
    "    #Encode as Base64\n",
    "string_e = base64.b64encode(string_s)\n",
    "string_e = string_e.decode('utf-8')\n",
    "print(string_e)\n",
    "print(\"디코딩 합니다 문자열을 입력해 주세요: \")\n",
    "   \n",
    "a = string_e.encode('utf-8')\n",
    "    #Decode from Base64\n",
    "print(base64.b64decode(a))\n",
    "print(str(base64.b64decode(a), encoding='utf-8'))"
   ]
  },
  {
   "cell_type": "markdown",
   "metadata": {},
   "source": [
    "### 0.1이 증가해야되는데, 왜 0.100000000001이 중간에 증가하는지 모르겠습니다.(다른 컴퓨터에서는 정상)"
   ]
  },
  {
   "cell_type": "code",
   "execution_count": 44,
   "metadata": {},
   "outputs": [
    {
     "name": "stdout",
     "output_type": "stream",
     "text": [
      "[0.0, 0.1, 0.2, 0.30000000000000004, 0.4]\n",
      "[1.0, 1.1, 1.2000000000000002, 1.3000000000000003, 1.4000000000000004, 1.5000000000000004, 1.6000000000000005, 1.7000000000000006, 1.8000000000000007, 1.9000000000000008]\n",
      "[2.2, 2.7, 3.2, 3.7]\n"
     ]
    }
   ],
   "source": [
    "def frange(start = 0.0,stop=0.0,step=0.1):\n",
    "    l = []\n",
    "    if(start != 0.0 and stop == 0.0):\n",
    "        stop = start\n",
    "        start = 0.0\n",
    "    num = start - step\n",
    "    while(True):\n",
    "        num = num + step\n",
    "        if(num < stop):\n",
    "            l.append(num)\n",
    "        else:\n",
    "            break\n",
    "    return l\n",
    "\n",
    "print(frange(0.5))\n",
    "print(frange(1.0,2.0))\n",
    "print(frange(2.2,4.0,0.5))\n",
    "            \n",
    "        \n",
    "        \n",
    "    "
   ]
  },
  {
   "cell_type": "code",
   "execution_count": 45,
   "metadata": {},
   "outputs": [
    {
     "name": "stdout",
     "output_type": "stream",
     "text": [
      "0\n",
      "3\n",
      "15\n",
      "5\n"
     ]
    }
   ],
   "source": [
    "\n",
    "def sum(*args): #매개변수로 가변인수 사용\n",
    "    result = 0\n",
    "    for x in args:\n",
    "        result = result + x\n",
    "    return result\n",
    "\n",
    "print(sum())\n",
    "print(sum(1,2))\n",
    "print(sum(1,2,3,4,5))\n",
    "print(sum(1, 5, 7, 2, -10))\n",
    "\n",
    "\n"
   ]
  },
  {
   "cell_type": "code",
   "execution_count": 46,
   "metadata": {},
   "outputs": [
    {
     "name": "stdout",
     "output_type": "stream",
     "text": [
      "ASAP\n"
     ]
    }
   ],
   "source": [
    "def f(x): # 첫번째 문자를 대문자로 변환\n",
    "    return x[0].upper()\n",
    "\n",
    "def myinitial(statement):\n",
    "    l = statement.split() #공백을 기준으로 단어를 분리\n",
    "    initial_words = list(map(f,l)) #첫번째 문자를 대문자로 변행시켜 list 형태로 저장\n",
    "    result = ''.join(initial_words) # ''로 리스트의 원소들을 연결시켜 str로 반환\n",
    "    return result\n",
    "\n",
    "print(myinitial(\"as soon as possible\"))\n",
    "    "
   ]
  },
  {
   "cell_type": "code",
   "execution_count": 47,
   "metadata": {},
   "outputs": [
    {
     "name": "stdout",
     "output_type": "stream",
     "text": [
      "24\n"
     ]
    }
   ],
   "source": [
    "def myfact(n):\n",
    "    if(n==1): # n이 1이면 순환 호출 종료\n",
    "        return 1\n",
    "    return n * myfact(n-1) # myfact 순환 호출\n",
    "print(myfact(4))\n"
   ]
  },
  {
   "cell_type": "markdown",
   "metadata": {},
   "source": [
    "import string 과 from string import * 의 차이점을 설명하시오.\n",
    "import string을 하게되면 현재의 이름공간(dir())에 string을 불러온다.\n",
    "하지만 from string import * 을 하게 외면 현재의 이름공간(dir())에 string모듈 안에있는 __ 로 시작하는 이름들을 제외한 모든 이름을 불러온다.\n",
    "따라서 form string import * 를 하게되면 string 안에있는 functuation() 함수를\n",
    "string.functuation()으로 사용하지 않고 functuation()으로 사용할 수 있다."
   ]
  }
 ],
 "metadata": {
  "kernelspec": {
   "display_name": "Python 3",
   "language": "python",
   "name": "python3"
  },
  "language_info": {
   "codemirror_mode": {
    "name": "ipython",
    "version": 3
   },
   "file_extension": ".py",
   "mimetype": "text/x-python",
   "name": "python",
   "nbconvert_exporter": "python",
   "pygments_lexer": "ipython3",
   "version": "3.6.5"
  }
 },
 "nbformat": 4,
 "nbformat_minor": 2
}
