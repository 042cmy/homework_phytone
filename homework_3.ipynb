{
 "cells": [
  {
   "cell_type": "markdown",
   "metadata": {},
   "source": [
    "## 2014136131_추명엽 01분반 과제3 (Python)"
   ]
  },
  {
   "cell_type": "code",
   "execution_count": 15,
   "metadata": {},
   "outputs": [
    {
     "name": "stdout",
     "output_type": "stream",
     "text": [
      "[1, 100, 4, 5]\n",
      "[1, 100, 4, 5]\n"
     ]
    },
    {
     "ename": "TypeError",
     "evalue": "can only assign an iterable",
     "output_type": "error",
     "traceback": [
      "\u001b[1;31m---------------------------------------------------------------------------\u001b[0m",
      "\u001b[1;31mTypeError\u001b[0m                                 Traceback (most recent call last)",
      "\u001b[1;32m<ipython-input-15-38b0d807b72a>\u001b[0m in \u001b[0;36m<module>\u001b[1;34m()\u001b[0m\n\u001b[0;32m      6\u001b[0m \u001b[0mprint\u001b[0m\u001b[1;33m(\u001b[0m\u001b[0mL\u001b[0m\u001b[1;33m)\u001b[0m\u001b[1;33m\u001b[0m\u001b[0m\n\u001b[0;32m      7\u001b[0m \u001b[0mL\u001b[0m\u001b[1;33m=\u001b[0m\u001b[1;33m[\u001b[0m\u001b[1;36m1\u001b[0m\u001b[1;33m,\u001b[0m\u001b[1;36m2\u001b[0m\u001b[1;33m,\u001b[0m\u001b[1;36m3\u001b[0m\u001b[1;33m,\u001b[0m\u001b[1;36m4\u001b[0m\u001b[1;33m,\u001b[0m\u001b[1;36m5\u001b[0m\u001b[1;33m]\u001b[0m\u001b[1;33m\u001b[0m\u001b[0m\n\u001b[1;32m----> 8\u001b[1;33m \u001b[0mL\u001b[0m\u001b[1;33m[\u001b[0m\u001b[1;36m1\u001b[0m\u001b[1;33m:\u001b[0m\u001b[1;36m3\u001b[0m\u001b[1;33m]\u001b[0m \u001b[1;33m=\u001b[0m \u001b[1;36m100\u001b[0m \u001b[1;31m# L[1:3]의 자료형이 List이기 때문에 int과 호환되지 않는다.\u001b[0m\u001b[1;33m\u001b[0m\u001b[0m\n\u001b[0m\u001b[0;32m      9\u001b[0m \u001b[0mprint\u001b[0m\u001b[1;33m(\u001b[0m\u001b[0mL\u001b[0m\u001b[1;33m)\u001b[0m\u001b[1;33m\u001b[0m\u001b[0m\n",
      "\u001b[1;31mTypeError\u001b[0m: can only assign an iterable"
     ]
    }
   ],
   "source": [
    "L=[1,2,3,4,5]\n",
    "L[1:3] = [100] #리스트의 기본 연산으로 L의 index가 1~2를 삭제하고 100을 넣는다\n",
    "print(L) \n",
    "L=[1,2,3,4,5]\n",
    "L[1:3] = [(100)] #위와 같은 이유이고 작은 상수는 그 자체로 튜플이다.\n",
    "print(L)\n",
    "L=[1,2,3,4,5]\n",
    "L[1:3] = 100 # L[1:3]의 자료형이 List이기 때문에 int과 호환되지 않는다.\n",
    "print(L)"
   ]
  },
  {
   "cell_type": "code",
   "execution_count": 16,
   "metadata": {},
   "outputs": [
    {
     "ename": "TypeError",
     "evalue": "can only assign an iterable",
     "output_type": "error",
     "traceback": [
      "\u001b[1;31m---------------------------------------------------------------------------\u001b[0m",
      "\u001b[1;31mTypeError\u001b[0m                                 Traceback (most recent call last)",
      "\u001b[1;32m<ipython-input-16-f90bd50d1095>\u001b[0m in \u001b[0;36m<module>\u001b[1;34m()\u001b[0m\n\u001b[0;32m      1\u001b[0m \u001b[0mL\u001b[0m\u001b[1;33m=\u001b[0m\u001b[1;33m[\u001b[0m\u001b[1;36m1\u001b[0m\u001b[1;33m,\u001b[0m\u001b[1;36m2\u001b[0m\u001b[1;33m,\u001b[0m\u001b[1;36m3\u001b[0m\u001b[1;33m,\u001b[0m\u001b[1;36m4\u001b[0m\u001b[1;33m,\u001b[0m\u001b[1;36m5\u001b[0m\u001b[1;33m]\u001b[0m\u001b[1;33m\u001b[0m\u001b[0m\n\u001b[1;32m----> 2\u001b[1;33m \u001b[0mL\u001b[0m\u001b[1;33m[\u001b[0m\u001b[1;36m1\u001b[0m\u001b[1;33m:\u001b[0m\u001b[1;36m3\u001b[0m\u001b[1;33m]\u001b[0m \u001b[1;33m=\u001b[0m \u001b[1;33m(\u001b[0m\u001b[1;36m100\u001b[0m\u001b[1;33m)\u001b[0m \u001b[1;31m# 위의 오류와 같은 오류이고 (100 , ) 이렇게 하면 가능하다\u001b[0m\u001b[1;33m\u001b[0m\u001b[0m\n\u001b[0m\u001b[0;32m      3\u001b[0m \u001b[0mprint\u001b[0m\u001b[1;33m(\u001b[0m\u001b[0mL\u001b[0m\u001b[1;33m)\u001b[0m\u001b[1;33m\u001b[0m\u001b[0m\n",
      "\u001b[1;31mTypeError\u001b[0m: can only assign an iterable"
     ]
    }
   ],
   "source": [
    "L=[1,2,3,4,5]\n",
    "L[1:3] = (100) # 위의 오류와 같은 오류이고 (100 , ) 이렇게 하면 가능하다\n",
    "print(L)"
   ]
  },
  {
   "cell_type": "code",
   "execution_count": 17,
   "metadata": {},
   "outputs": [
    {
     "name": "stdout",
     "output_type": "stream",
     "text": [
      "[1, 100, 101, 102, 4, 5]\n",
      "[1, 100, 101, 102, 4, 5]\n",
      "[1, (100, 101, 102), 4, 5]\n",
      "[1, [100, 101, 102], 4, 5]\n"
     ]
    }
   ],
   "source": [
    "L=[1,2,3,4,5]\n",
    "L[1:3] = (100, 101, 102) #리스트의 기본 연산으로 L의 index가 1~2를 삭제하고 100, 101, 102를 넣는다\n",
    "print(L) # 리스트와 튜플은 같은 시퀀스형이기 때문에 리스트에서 호환 가능하다.\n",
    "\n",
    "L=[1,2,3,4,5]\n",
    "L[1:3] = [100, 101, 102] #리스트의 기본 연산으로 L의 index가 1~2를 삭제하고 100, 101, 102를 넣는다\n",
    "print(L)\n",
    "\n",
    "L=[1,2,3,4,5]\n",
    "L[1:3] = [(100, 101, 102)] #리스트의 기본 연산으로 L의 index가 1~2를 삭제하고 (100, 101, 102)를 넣는다\n",
    "print(L)\n",
    "\n",
    "L=[1,2,3,4,5]\n",
    "L[1:3] = [[100, 101, 102]] #리스트의 기본 연산으로 L의 index가 1~2를 삭제하고 [100, 101, 102]를 넣는다\n",
    "print(L)"
   ]
  },
  {
   "cell_type": "code",
   "execution_count": 18,
   "metadata": {},
   "outputs": [
    {
     "name": "stdout",
     "output_type": "stream",
     "text": [
      "Hello World and Python\n",
      "nohtyP dna dlroW olleH\n",
      "PythonandWorldHello\n"
     ]
    }
   ],
   "source": [
    "S = 'Hello World and Python'\n",
    "s = ''\n",
    "count = len(S) - 1\n",
    "for x in S: #S의 원소를 뒤에서 부터 하나씩 읽고 그 값을 s의 원소에 차례로 저장\n",
    "    s = s + S[count]\n",
    "    count = count -1\n",
    "print(S)\n",
    "print(s)\n",
    "\n",
    "L = s.split() #S를 뒤집은 s에서 공백을 기준으로 단어를 나눈다\n",
    "l = []\n",
    "for x in L: #리스트의 각 원소의 값을 차례로 뒤집어서 새로운 l 리스트에 저장\n",
    "    s = ''\n",
    "    count = len(x) - 1 # 각 원소의 마지막 글자 index\n",
    "    for y in x: #각 원소를 뒤집는다.\n",
    "        s = s + x[count]\n",
    "        count = count - 1\n",
    "    l.append(s) #원소를 뒤집어서 만들어진 단어를 l리스트에 추가\n",
    "             \n",
    "result = ''.join(l) #리스트 l에 있는 원소들을 ''로 연결하여 문자열로 변환\n",
    "print(result)"
   ]
  },
  {
   "cell_type": "code",
   "execution_count": null,
   "metadata": {
    "scrolled": true
   },
   "outputs": [],
   "source": [
    "a = [1, 2, 3]\n",
    "b = a * 3 \n",
    "c = [a] * 3\n",
    "print(b)\n",
    "print(c)\n",
    "a[0] = 0\n",
    "print(b) # b 라는 새로운 list 객체가 만들어 졌기 때문에 a의 영향을 더이상 받지 않는다.\n",
    "print(c) # c 라는 새로운 list 객체에 list형 a가 들어갔기 때문에 a의 영향을 받는다."
   ]
  },
  {
   "cell_type": "code",
   "execution_count": 21,
   "metadata": {},
   "outputs": [
    {
     "name": "stdout",
     "output_type": "stream",
     "text": [
      "['  first star   ', '   second star   ', '    third star  ']\n",
      "['first star', 'second star', 'third star']\n"
     ]
    }
   ],
   "source": [
    "s = '  first star   :   second star   :    third star  '\n",
    "l = [] # for ~ in 문을 이용한 코드\n",
    "L = []\n",
    "temp = ''\n",
    "\n",
    "#s의 글자를 하나씩 읽고 :이 나오면 지금까지 나온 글자들을 하나의 단어로 리스트 l에 저장\n",
    "for x in s: \n",
    "    if(x == ':'): # :이 나오면 지금까지의 글자들을 l에 추가\n",
    "        l.append(temp)\n",
    "        temp = ''\n",
    "        continue\n",
    "    temp = temp + x\n",
    "l.append(temp) # 마지막의 \":\" 뒤에 있는 글자들을 l에 추가\n",
    "print(l)\n",
    "\n",
    "#' ' 띄어쓰기가 있으면 양 옆을 검사한다. 뛰어쓰기의 양 옆에 다른 뛰어쓰기가 하나라도\n",
    "#    있으면 필요없는 것으로 생각\n",
    "for x in l:\n",
    "    count = 0\n",
    "    Max = len(x)\n",
    "    temp = ''\n",
    "    for y in x:\n",
    "        if(y == ' ' and count == 0):#처음으로 띄어쓰기가 나오면 생략\n",
    "            count = count + 1\n",
    "            continue\n",
    "        if(y == ' ' and count > 0 and (x[count -1] == ' ' or x[count + 1] == ' ')):\n",
    "            count = count + 1\n",
    "            continue\n",
    "        temp = temp + y\n",
    "        count = count + 1\n",
    "    L.append(temp) #필요없는 띄어쓰기를 제거한 단어들을 L에 추가\n",
    "print(L)"
   ]
  },
  {
   "cell_type": "code",
   "execution_count": 19,
   "metadata": {},
   "outputs": [
    {
     "name": "stdout",
     "output_type": "stream",
     "text": [
      "['first star', 'second star', 'third star']\n"
     ]
    }
   ],
   "source": [
    "s = '  first star   :   second star   :    third star  '\n",
    "\n",
    "#리스트 내포를 이용하여 s에서 \":\"를 없애고 다른 글자들은 차례 리스트의 원소로 저장한 l\n",
    "l = [x for x in s if x!=':']\n",
    "L = []\n",
    "count = 0\n",
    "Max = len(l)-1 # \":\"을 제거한 단어에서 마지막 글자의 index\n",
    "temp = ''\n",
    "second = False #처음으로 띄어쓰기를 제외한 글자가 나오고 처음으로 띄어쓰기가 나왔는지\n",
    "for x in l:\n",
    "    if(x == ' ' and count == 0): #처음으로 띄어쓰기가 나오면 생략\n",
    "        count = count + 1\n",
    "        continue\n",
    "    if(x == ' ' and count == Max): #마지막으로 띄어쓰기가 나오면 for문 빠져나옴\n",
    "        break\n",
    "    #띄어쓰기의 양 옆에 띄어쓰기가 하나라도 있으면 띄어쓰기 생략\n",
    "    if(x == ' ' and count > 0 and count < Max and (l[count -1] == ' ' or l[count + 1] == ' ')):\n",
    "        count = count + 1\n",
    "        #의미있는 띄어쓰기가 나오고 나서 띄어쓰기가 또 나오면 현재까지 단어 저장\n",
    "        if(second):\n",
    "            L.append(temp)\n",
    "            temp = ''\n",
    "            second = False #의미있는 띄어쓰기가 나온지 확인하는 변수를 초기화시킴\n",
    "        continue\n",
    "    temp = temp + x #의미있는 글자들은 차례로 문장으로 연결\n",
    "    if(x==' '): #의미있는 띄어쓰기가 나왔는지 확인\n",
    "        second = True\n",
    "    count = count + 1 #리스트에 저장된 글자의 숫자를 하나 증가\n",
    "print(L)"
   ]
  },
  {
   "cell_type": "code",
   "execution_count": 3,
   "metadata": {},
   "outputs": [
    {
     "name": "stdout",
     "output_type": "stream",
     "text": [
      "15\n",
      "15\n"
     ]
    }
   ],
   "source": [
    "def addall_1(list): #for ~ in 문을 사용하여 리스트 내의 모든 원소들을 더함\n",
    "    result = 0\n",
    "    for x in list:\n",
    "        result = result + x\n",
    "    return result\n",
    "def addall_2(list): #리스트 내포을 사용하여 리스트 내의 모든 원소들을 더함\n",
    "    all_list = [x for x in list if True]\n",
    "    return sum(all_list)\n",
    "\n",
    "print(addall_1([1,2,3,4,5]))\n",
    "print(addall_2([1,2,3,4,5]))"
   ]
  },
  {
   "cell_type": "code",
   "execution_count": 4,
   "metadata": {},
   "outputs": [
    {
     "name": "stdout",
     "output_type": "stream",
     "text": [
      "9\n",
      "9\n"
     ]
    }
   ],
   "source": [
    "def addallodd_1(list): #for ~ in 문을 사용하여 리스트 내의 홀수들의 원소를 더함\n",
    "    result = 0\n",
    "    for x in list:\n",
    "        if x % 2:\n",
    "            result = result + x\n",
    "    return result\n",
    "\n",
    "def addallodd_2(list): #리스트 내포을 사용하여 리스트 내의 홀수들의 원소를 더함\n",
    "    odd_list = [x for x in list if x%2]\n",
    "    return sum(odd_list)\n",
    "\n",
    "print(addallodd_1([1,2,3,4,5]))\n",
    "print(addallodd_2([1,2,3,4,5]))"
   ]
  },
  {
   "cell_type": "code",
   "execution_count": 5,
   "metadata": {},
   "outputs": [
    {
     "name": "stdout",
     "output_type": "stream",
     "text": [
      "{'low': [1, 2, 3], 'high': [4, 5, 6]}\n",
      "{'low': [1, 2, 3], 'high': [4, 5, 6]}\n",
      "{'low': [1, 2, 3], 'high': [4, 5, 6]}\n",
      "\n",
      "{'low': [10, 20, 30], 'high': [4, 500, 6]}\n",
      "{'low': [10, 20, 30], 'high': [4, 500, 6]}\n",
      "{'low': [1, 2, 3], 'high': [4, 500, 6]}\n"
     ]
    }
   ],
   "source": [
    "L1 = [1, 2, 3]\n",
    "L2 = [4, 5, 6]\n",
    "d = {'low':L1, 'high':L2}\n",
    "e = d # e는 d가 가르키는 사전을 가르킨다. 따라서 d와 e는 항상 같은 결과\n",
    "f = d.copy() # d의 내용을 복사하는 call by value\n",
    "print(d)\n",
    "print(e)\n",
    "print(f)\n",
    "print()\n",
    "d['low'] = [10, 20, 30]\n",
    "d['high'][1] = 500\n",
    "print(d)\n",
    "print(e)\n",
    "print(f)"
   ]
  },
  {
   "cell_type": "markdown",
   "metadata": {},
   "source": [
    "1) e는 d가 가르키는 사전을 가르킨다. 따라서 d와 e는 항상 같은 결과\n",
    "2) d의 내용을 f에 복사하는 call by value이기 때문에 d의 값을 바꾸어도 f에는 영향을 주지 않는다. 즉 f와 d가 가르키는 객체는 다름"
   ]
  },
  {
   "cell_type": "code",
   "execution_count": 14,
   "metadata": {},
   "outputs": [
    {
     "name": "stdout",
     "output_type": "stream",
     "text": [
      "[('five', 5), ('four', 4), ('one', 1), ('three', 3), ('two', 2)]\n",
      "[('two', 2), ('three', 3), ('one', 1), ('four', 4), ('five', 5)]\n",
      "[('one', 1), ('two', 2), ('three', 3), ('four', 4), ('five', 5)]\n",
      "[('five', 5), ('four', 4), ('three', 3), ('two', 2), ('one', 1)]\n"
     ]
    }
   ],
   "source": [
    "d = {'one':1, 'two':2, 'three':3, 'four':4, 'five':5}\n",
    "def cmp_by_each_element(a): # sort()에서 비교할 원소의 index 설정\n",
    "    return a[1]\n",
    "\n",
    "items = list(d.items()) #사전을 정렬하기 위해서 리스트로 변환후 sort()함수를 사용\n",
    "\n",
    "items.sort() #튜플의 첫번째 값으로 오름차순\n",
    "print(items)\n",
    "items.sort(reverse=True) #튜플의 첫번째 값으로 내림차순\n",
    "print(items)\n",
    "items.sort(key = cmp_by_each_element) #튜플의 두번째 값으로 오름차순\n",
    "print(items)\n",
    "items.sort(reverse=True, key = cmp_by_each_element) #튜플의 두번째 값으로 내림차순\n",
    "print(items)\n"
   ]
  },
  {
   "cell_type": "markdown",
   "metadata": {},
   "source": [
    "### 백준에서는 틀렸다고 하였지만 제가 봤을때는 저의 정답이 틀리지 않은거 같습니다."
   ]
  },
  {
   "cell_type": "code",
   "execution_count": 23,
   "metadata": {
    "scrolled": false
   },
   "outputs": [
    {
     "name": "stdout",
     "output_type": "stream",
     "text": [
      "9999999 4\n",
      "1000000 5\n",
      "11111111 3\n",
      "\n",
      "\n",
      "하나씩 치킨의 개수를 세어서 최대 치킨의 개수 구함(백준에서 시간초과)\n",
      "13333331\n",
      "1249999\n",
      "16666666\n",
      "\n",
      "나누기를 사용하여 최대 치킨의 개수 구함(백준에서 틀렸다고 함)\n",
      "13333331\n",
      "1249999\n",
      "16666666\n"
     ]
    }
   ],
   "source": [
    "# 하나씩 치킨의 개수를 세어서 최대 치킨의 개수 구함\n",
    "def Max_chiken(a):\n",
    "    L = a.split()\n",
    "    coupon = int(L[0]) #초기 쿠폰의 개수\n",
    "    k = int(L[1]) #스탬프를 몇깨까지 모아야 하는지 \n",
    "    stamp = 0 # 초기 스탬프 개수\n",
    "    chiken = 0 # 현재 주문한 치킨의 개수\n",
    "    while(coupon != 0): # 쿠폰이 전부 떨어지면 치킨을 더이상 주문하지 못함\n",
    "        coupon = coupon - 1 # 쿠폰 하나로 치킨 구매\n",
    "        chiken = chiken + 1 # 치킨 하나 구매\n",
    "        stamp = stamp + 1 # 치킨을 하나 구매하였기 때문에 stamp하나 받음\n",
    "        if(stamp == k): # stamp가 k까지 모이면 쿠폰 하나 지급\n",
    "            coupon = coupon + 1\n",
    "            stamp = 0 # 쿠폰을 지급하면 stamp를 0으로 초기화\n",
    "    return chiken #현재까지 주문한 치킨의 개수 출력\n",
    "\n",
    "# 나누기를 사용하여 최대 치킨의 개수 구함\n",
    "def Max_chiken_2(a):\n",
    "    L = a.split()\n",
    "    chiken = int(L[0]) # 처음 가지고 있는 쿠폰으로 주문한 치킨의 수\n",
    "    k = int(L[1]) # 스탬프를 몇개까지 모아야 하는지\n",
    "    stamp = chiken #처음 가지고 있는 쿠폰으로 치킨을 구매하고 난 뒤의 stamp 수\n",
    "    while(stamp >= k):# 스탬프를 더이상 쿠폰으로 교환하지 못 할때까지 수행\n",
    "        bonus_chiken = int(stamp/k) # 현재의 스탬프로 교환한 쿠폰의 수\n",
    "        chiken = chiken + bonus_chiken #현재의 쿠폰으로 구매한 치킨의 수 추가\n",
    "        #stamp의 수는 쿠폰으로 교환하지 못했던 stamp에서 쿠폰으로 주문한 치킨의 수 더함\n",
    "        stamp = stamp % k + bonus_chiken\n",
    "    return chiken #현재까지 주문한 치킨의 개수 출력\n",
    "\n",
    "a = input()\n",
    "b = input()\n",
    "c = input()\n",
    "print()\n",
    "print()\n",
    "print(\"하나씩 치킨의 개수를 세어서 최대 치킨의 개수 구함(백준에서 시간초과)\")\n",
    "print(Max_chiken_2(a))\n",
    "print(Max_chiken_2(b))\n",
    "print(Max_chiken_2(c))\n",
    "\n",
    "print()\n",
    "print(\"나누기를 사용하여 최대 치킨의 개수 구함(백준에서 틀렸다고 함)\")\n",
    "print(Max_chiken(a))\n",
    "print(Max_chiken(b))\n",
    "print(Max_chiken(c))\n",
    "\n",
    "\n"
   ]
  },
  {
   "cell_type": "markdown",
   "metadata": {},
   "source": [
    "최대 Chiken의 개수를 구할때, def2의 시간복잡도를 알고 싶다.\n",
    "생각해 봤을때 def2의 시간복잡도는 n/k로 치킨의 수를 구함으로 O(1) 같다."
   ]
  }
 ],
 "metadata": {
  "kernelspec": {
   "display_name": "Python 3",
   "language": "python",
   "name": "python3"
  },
  "language_info": {
   "codemirror_mode": {
    "name": "ipython",
    "version": 3
   },
   "file_extension": ".py",
   "mimetype": "text/x-python",
   "name": "python",
   "nbconvert_exporter": "python",
   "pygments_lexer": "ipython3",
   "version": "3.6.5"
  }
 },
 "nbformat": 4,
 "nbformat_minor": 2
}
