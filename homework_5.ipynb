{
 "cells": [
  {
   "cell_type": "markdown",
   "metadata": {},
   "source": [
    "## 2014136131_추명엽 01분반 과제5 (Python)"
   ]
  },
  {
   "cell_type": "markdown",
   "metadata": {},
   "source": [
    "#### 모듈 Vs 클래스\n",
    "공통점 : 파이썬의 데이터와 함수를 정의하는 단위이다.\n",
    "\n",
    "차이점 : 모듈은 파일 단위로 이름 공간을 구성하는 반면, 클래스는 클래스 영역 내에 이름 공간을 구성한다."
   ]
  },
  {
   "cell_type": "markdown",
   "metadata": {},
   "source": [
    "다형성(Polymorphism) : 상속 관계 내의 다른 클래스들의 인스턴스들이 같은 맴버 함수 호출에 대해 각각 다르게 반응하도록 하는 것이다."
   ]
  },
  {
   "cell_type": "code",
   "execution_count": 2,
   "metadata": {},
   "outputs": [
    {
     "name": "stdout",
     "output_type": "stream",
     "text": [
      "안녕하세요\n",
      "Hello\n"
     ]
    }
   ],
   "source": [
    "class language:\n",
    "    def hello(self):\n",
    "        print('...')\n",
    "\n",
    "class kor(language):\n",
    "    def hello(self):\n",
    "        print('안녕하세요')\n",
    "\n",
    "class eng(language):\n",
    "    def hello(self):\n",
    "        print('Hello')\n",
    "\n",
    "class japan(language):\n",
    "    def hello(self):\n",
    "        pass\n",
    "\n",
    "for each in (kor(), eng(), japan()):\n",
    "    each.hello()\n",
    "\n"
   ]
  },
  {
   "cell_type": "code",
   "execution_count": 35,
   "metadata": {},
   "outputs": [],
   "source": [
    "class Counter:\n",
    "    def __init__(self, x, y = 1 ):\n",
    "        self.count = x\n",
    "        self.step = y\n",
    "    def __str__(self):\n",
    "        return \"[Count (step:\"+ str(self.step)+ \")]\" + str(self.count)\n",
    "    def incr(self):\n",
    "        self.count = self.count + self.step\n",
    "    def __call__(self):\n",
    "        self.incr()\n",
    "    def __add__(self,n):\n",
    "        self.count = self.count + n\n",
    "        return self\n",
    "    def __sub__(self, n):\n",
    "        self.count = self.count - n\n",
    "        return self\n",
    "    def __gt__(self, n):\n",
    "        return self.count > n\n",
    "    def __lt__(self, n):\n",
    "        return self.count < n\n",
    "    def __eq__(self, n):\n",
    "        return self.count == n\n",
    "    def __ne__(self, n):\n",
    "        return self.count != n"
   ]
  },
  {
   "cell_type": "code",
   "execution_count": 36,
   "metadata": {},
   "outputs": [
    {
     "name": "stdout",
     "output_type": "stream",
     "text": [
      "[Count (step:1)]10\n",
      "[Count (step:2)]10\n"
     ]
    }
   ],
   "source": [
    "c = Counter(10)\n",
    "d = Counter(10, 2)\n",
    "\n",
    "print(c)\n",
    "print(d)"
   ]
  },
  {
   "cell_type": "code",
   "execution_count": 37,
   "metadata": {},
   "outputs": [
    {
     "name": "stdout",
     "output_type": "stream",
     "text": [
      "[Count (step:1)]11\n",
      "[Count (step:2)]12\n"
     ]
    }
   ],
   "source": [
    "c.incr()\n",
    "d.incr()\n",
    "print(c)\n",
    "print(d)"
   ]
  },
  {
   "cell_type": "code",
   "execution_count": 38,
   "metadata": {},
   "outputs": [
    {
     "name": "stdout",
     "output_type": "stream",
     "text": [
      "[Count (step:1)]12\n",
      "[Count (step:2)]14\n"
     ]
    }
   ],
   "source": [
    "c()\n",
    "d()\n",
    "print(c)\n",
    "print(d)"
   ]
  },
  {
   "cell_type": "code",
   "execution_count": 39,
   "metadata": {
    "scrolled": true
   },
   "outputs": [
    {
     "name": "stdout",
     "output_type": "stream",
     "text": [
      "[Count (step:1)]17\n",
      "[Count (step:2)]9\n"
     ]
    }
   ],
   "source": [
    "c = c + 5\n",
    "d = d - 5\n",
    "print(c)\n",
    "print(d)"
   ]
  },
  {
   "cell_type": "code",
   "execution_count": 40,
   "metadata": {},
   "outputs": [
    {
     "name": "stdout",
     "output_type": "stream",
     "text": [
      "True\n",
      "False\n",
      "False\n",
      "True\n",
      "False\n",
      "True\n"
     ]
    }
   ],
   "source": [
    "print(c > 10) \n",
    "print(d > 10) \n",
    "print(c < 10)\n",
    "print(d < 10)\n",
    "print(c == 10) \n",
    "print(d != 10) \n",
    "    "
   ]
  },
  {
   "cell_type": "code",
   "execution_count": 41,
   "metadata": {},
   "outputs": [
    {
     "name": "stdout",
     "output_type": "stream",
     "text": [
      "MySet: {1 ,2 ,3}\n",
      "MySet: {2 ,3 ,4 ,5 ,6 ,7 ,8 ,9}\n"
     ]
    }
   ],
   "source": [
    "class MySet(list):\n",
    "    def __init__(self, l):\n",
    "        for e in l:\n",
    "            self.append(e)\n",
    "        MySet.eliminate_duplicate(self)\n",
    "    \n",
    "    def __str__(self):\n",
    "        result = \"MySet: {\"\n",
    "        for e in self:\n",
    "            result = result + str(e) + \" ,\"\n",
    "        result = result[0:len(result)-2] + \"}\"\n",
    "        return result\n",
    "\n",
    "    @staticmethod    \n",
    "    def eliminate_duplicate(l):\n",
    "        s = []\n",
    "        for e in l:\n",
    "            if e not in s:\n",
    "                s.append(e)\n",
    "        l[:] = []\n",
    "        for e in s:\n",
    "            l.append(e)\n",
    "\n",
    "    \n",
    "if __name__ == \"__main__\":\n",
    "    s = MySet([1, 2, 2, 3])\n",
    "    print(s)\n",
    "    t = MySet([2, 3, 4, 5, 6, 7, 8, 8, 8, 8, 8, 9])\n",
    "    print(t)"
   ]
  },
  {
   "cell_type": "markdown",
   "metadata": {},
   "source": [
    "__init__ : MySet클래스의 생성자 메소드로 객체가 생성될 때 자동으로 불리어진다. self 인자가 정의되어 있어야 한다. 여기서 MySet 클래스는 내장자료형(list)를 상속하였음으로 MySet의 인스턴스는 list 객체의 형태를 가지고 있는다.\n",
    "\n",
    "__str__ : print 예약어나 str() 내장함수 호출에 대응되는 메소드이다. 따라서 MySet 클래스의 인스턴스에서 prit 예약어나 str() 내장함수를 호출하면 실행된다.\n",
    "\n",
    "__eliminate_duplicate__ : 위에 @staticmethod라는 장식자가 선언되어 있기때문에 정적 메소드이다. 정적 메소드는 인스턴스 객체와 무고나하게 클래스 이름 공간에 존재하는 메소드로서 클래스 이름을 이용하여 직접 호출할 수 있는 메소드 이다. self를 인자로 할당하지 않고 해당 클래스의 인스턴스를 통해서도 호출 가능하다.\n"
   ]
  },
  {
   "cell_type": "code",
   "execution_count": 44,
   "metadata": {},
   "outputs": [
    {
     "name": "stdout",
     "output_type": "stream",
     "text": [
      "MySet: {1 ,2 ,3}\n",
      "MySet: {2 ,3 ,4 ,5 ,6 ,7 ,8 ,9}\n"
     ]
    }
   ],
   "source": [
    "class MySet(list):\n",
    "    def __init__(self, l):\n",
    "        for e in l:\n",
    "            self.append(e)\n",
    "        MySet.eliminate_duplicate(self)\n",
    "    \n",
    "    def __str__(self):\n",
    "        result = \"MySet: {\"\n",
    "        for e in self:\n",
    "            result = result + str(e) + \" ,\"\n",
    "        result = result[0:len(result)-2] + \"}\"\n",
    "        return result\n",
    "    \n",
    "    def __or__(self,B):\n",
    "        result = MySet([])\n",
    "        for x in self:\n",
    "            result.append(x)\n",
    "        for x in B:\n",
    "            result.append(x)\n",
    "        MySet.eliminate_duplicate(result)\n",
    "        return result\n",
    "    \n",
    "    def __and__(self,B):\n",
    "        result = MySet([])\n",
    "        for x in self:\n",
    "            if(x in B):\n",
    "                result.append(x)\n",
    "        return result\n",
    "    def __sub__(self,B):\n",
    "        result = MySet([])\n",
    "        for x in self:\n",
    "            if(x not in B):\n",
    "                result.append(x)\n",
    "        return result\n",
    "        \n",
    "    @staticmethod    \n",
    "    def eliminate_duplicate(l):\n",
    "        s = []\n",
    "        for e in l:\n",
    "            if e not in s:\n",
    "                s.append(e)\n",
    "        l[:] = []\n",
    "        for e in s:\n",
    "            l.append(e)\n",
    "\n",
    "    \n",
    "if __name__ == \"__main__\":\n",
    "    s = MySet([1, 2, 2, 3])\n",
    "    print(s)\n",
    "    t = MySet([2, 3, 4, 5, 6, 7, 8, 8, 8, 8, 8, 9])\n",
    "    print(t)"
   ]
  },
  {
   "cell_type": "code",
   "execution_count": 45,
   "metadata": {
    "scrolled": true
   },
   "outputs": [
    {
     "name": "stdout",
     "output_type": "stream",
     "text": [
      "MySet: {1 ,2 ,3}\n",
      "MySet: {2 ,3 ,4 ,5 ,6 ,7 ,8 ,9}\n",
      "s|t MySet: {1 ,2 ,3 ,4 ,5 ,6 ,7 ,8 ,9}\n",
      "s&t MySet: {2 ,3}\n",
      "s-t MySet: {1}\n"
     ]
    }
   ],
   "source": [
    "if __name__ == \"__main__\":\n",
    "    s = MySet([1, 2, 2, 3])\n",
    "    print(s)\n",
    "    t = MySet([2, 3, 4, 5, 6, 7, 8, 8, 8, 8, 8, 9])\n",
    "    print(t)\n",
    "    u = s|t\n",
    "    print(\"s|t\",end = \" \")\n",
    "    print(u)\n",
    "    \n",
    "    u = s & t\n",
    "    print(\"s&t\",end = \" \")\n",
    "    print(u)\n",
    "    \n",
    "    u = s - t\n",
    "    print(\"s-t\",end = \" \")\n",
    "    print(u)\n",
    "    \n",
    "    "
   ]
  },
  {
   "cell_type": "code",
   "execution_count": 46,
   "metadata": {},
   "outputs": [
    {
     "name": "stdout",
     "output_type": "stream",
     "text": [
      "6\n",
      "True\n",
      "True\n"
     ]
    }
   ],
   "source": [
    "s = MySet([1,2,3,4,5,6])\n",
    "print(len(s))\n",
    "print(bool(s))\n",
    "print(2 in s)"
   ]
  },
  {
   "cell_type": "markdown",
   "metadata": {},
   "source": [
    "MySet 클래스는 내장자료형(list)를 상속받기 때문에 MySet클래스의 인스턴스는 기본적으로 list 객체의 형태를 가진다. 또한 len,bool, in의 키워드를 재정의 하지 않았기 때문에 list와 같은 방식으로 메소드가 호출된다. "
   ]
  },
  {
   "cell_type": "markdown",
   "metadata": {},
   "source": [
    "##### 클래스를 구현하다 보니 문제 조건에서 getWordsFrequency()의 이름을 getWordsFrequency2()로 정의 하였습니다."
   ]
  },
  {
   "cell_type": "code",
   "execution_count": 26,
   "metadata": {},
   "outputs": [],
   "source": [
    "import requests\n",
    "import string\n",
    "\n",
    "class SearchEngine(list):\n",
    "    category_sience_words = ['자율주행','과학','전자','시스템'] # sience 카테고리 판단 단어들\n",
    "    category_car_words = ['자동차','도로','차량','자율주행','주행','운전','탑승','브레이크','계기판','차선'] # car 카테고리 판단 단어들\n",
    "    category_education_words = ['학교','edu','학부','학생','학사','학원','공학','교육'] # education 카테고리 판단 단어들\n",
    "    category_IT_words = ['디지털','통신','It','IT','컴퓨터','소프트웨어','인공지능','Facebook','community','IoT','Twitter']\n",
    "    # IT 카테고리 판단 단어들\n",
    "    category_art_words = ['초현실','사진','아티스트','예쁜']# art 카테고리 판단 단어들\n",
    "    category_health_words = ['자신감','근력','건강','말','바람직','행동','정직','헬스','무례','완치','장애','치매','사람의']# health 카테고리 판단 단어들\n",
    "    category_issue_words = ['competition','problem','laws','Federal','committee','policy','People','Twitter','오피니언','문의','자살','유가족','치매']\n",
    "    # issue 카테고리 판단 단어들\n",
    "    \n",
    "    def __init__(self, *args): \n",
    "        self.urlSource = {}\n",
    "        for x in args:\n",
    "            self.append(x)#url 등록\n",
    "            req = requests.get(x)\n",
    "            self.urlSource[x] = req.text\n",
    "            self.registerStopWords()#stopWords 생성\n",
    "        \n",
    "            \n",
    "    def addUrl(self, url):\n",
    "        self.append(url)#url 추가\n",
    "        req = requests.get(url)\n",
    "        self.urlSource[url] = req.text\n",
    "    \n",
    "    def removeUrl(self, url):\n",
    "        temp = []\n",
    "        for x in self:\n",
    "            if(url != x):\n",
    "                temp.append(x)#제거할 url을 제외하고 다른 url은 순서를 유지 시켜서 temp에 저장\n",
    "        self.clear()\n",
    "        for x in temp:\n",
    "            self.append(x)#원하는 url을 제외한 url 등록\n",
    "    \n",
    "    def listUrls(self):\n",
    "        for x in self:\n",
    "            print(x) #url의 목록을 출력\n",
    "                \n",
    "    def getWordsEachUrlFreqency(self):\n",
    "        self.urlsPureWords = {}\n",
    "        if(len(self)==0): # url의 목록이 없으면 빈 사전 반환\n",
    "            return {}\n",
    "        for x in self: # 각 url의 출현 단어들을 저장\n",
    "            pureWords = SearchEngine.pureWord(self.urlSource[x]) #pureWords의 키값 :단어, value값 : 단어의 출현 빈도수 \n",
    "            SearchEngine.delete_stopWords(pureWords) # stopwods의 value를 0으로 변경\n",
    "            self.urlsPureWords[x] = pureWords #키값 : url, value값 : 각 url의 출현 단어 사전\n",
    "            \n",
    "            \n",
    "    def getWordsFrequency2(self):\n",
    "        self.getWordsEachUrlFreqency() #self.urlsPureWords를 얻기 위해 (키값 : url, value값 : 각 url의 출현 단어 사전)\n",
    "        for x in self:\n",
    "            print(x)\n",
    "            print(self.urlsPureWords[x])\n",
    "    \n",
    "    def getMaxFreqency(self):\n",
    "        max_val = [0, 0, 0] # Top3 출현 빈도수\n",
    "        max_key = ['NULL', 'NULL', 'NULL'] # Top3 출현 단어\n",
    "        temp_val = 0 # Top3 출현 빈도수를 바꾸기 위한 변수\n",
    "        temp_key = 'key' #Top3 출현 단어를 바꾸기 위한 변수\n",
    "        self.getWordsEachUrlFreqency()\n",
    "        for x in self: # 등록된 url의 개수 만큼 한다.\n",
    "            for key in self.urlsPureWords[x]: #self.urlsPureWords[x] (키값 : url, value값 : 각 url의 출현 단어 사전)\n",
    "                pureWords = self.urlsPureWords[x]\n",
    "                length = len(max_val) #Top3의 index를 뒤에서 부터 접근하기 위해\n",
    "                count = 0\n",
    "                if(pureWords[key] > max_val[0]): #Top1의 값이 바뀐 경우\n",
    "                    for val in max_val: #Top3가 바뀌면 바뀐 index 뒤에있는 값들이 한칸씩 뒤로간다\n",
    "                        count = count + 1\n",
    "                        max_val[length-count] = max_val[length-count-1]\n",
    "                        max_key[length-count] = max_key[length-count-1]\n",
    "                        if(count > 1): # 값을 하나씩 미루는 것을 2번 하면 종료\n",
    "                            count = 0\n",
    "                            break\n",
    "                    max_val[0] = pureWords[key] #첫번째 값을 바꿈\n",
    "                    max_key[0] = key\n",
    "                    continue #Top3에 대해 변경하였으면 다음 단어의 Top3 포함 유무를 판단\n",
    "                if(pureWords[key] > max_val[1]): #Top2의 값이 바뀐 경우\n",
    "                    for val in max_val:\n",
    "                        count = count + 1\n",
    "                        max_val[length-count] = max_val[length-count-1]\n",
    "                        max_key[length-count] = max_key[length-count-1]\n",
    "                        if(count > 0): #값을 하나씩 미루는 것을 1번 하면 종료\n",
    "                            count = 0\n",
    "                            break\n",
    "                    max_val[1] = pureWords[key] #두번째 값을 바꿈\n",
    "                    max_key[1] = key\n",
    "                    continue #Top3에 대해 변경하였으면 다음 단어의 Top3 포함 유무를 판단\n",
    "                if(pureWords[key] > max_val[2]): #Top3의 값이 바뀐 경우\n",
    "                    max_val[2] = pureWords[key] # 3번째 값을 바꿈\n",
    "                    max_key[2] = key\n",
    "                    continue #Top3에 대해 변경하였으면 다음 단어의 Top3 포함 유무를 판단\n",
    "            if(max_val[0] == 0): # url의 출현 단어가 없으면 none 출력\n",
    "                self.maxFreqency = ['none']\n",
    "                print(self.maxFreqency)\n",
    "                return\n",
    "            elif(max_val[0] == max_val[1]): # 각 url에서 최다 출현 단어가 여러 개인 경우\n",
    "                if(max_val[1]==max_val[2]):\n",
    "                    self.maxFreqency = max_key\n",
    "                else:\n",
    "                    self.maxFreqency = [max_key[0],max_key[1]]\n",
    "            else:\n",
    "                self.maxFreqency = [max_key[0]]\n",
    "            print(x) # 각각의 url\n",
    "            print(self.maxFreqency)\n",
    "            print()\n",
    "            max_val = [0, 0, 0] # Top3 출현 빈도수 초기화\n",
    "            max_key = ['NULL', 'NULL', 'NULL'] # Top3 출현 단어 초기화\n",
    "        \n",
    "    def getWordsEachUrlTop3(self):\n",
    "        self.top3words={} #키 값 : url, value : top3 출현 단어(리스트 형태)\n",
    "        for x in self:\n",
    "            self.top3words[x] = SearchEngine.export_decendOrder(self.urlsPureWords[x])\n",
    "    def getCategoryEachUrlTop3(self):\n",
    "        self.top3category={} # 키 값 : url, value : top3 출현 카테고리(리스트 형태)\n",
    "        for x in self:\n",
    "            self.top3category[x] = SearchEngine.export_decendOrder(self.decide_category(self.urlsPureWords[x]))\n",
    "        \n",
    "    @staticmethod    #self가 필요 없고 클래스의 모든 객체에서 동일한 메소드이기 때문에\n",
    "    def export_decendOrder(pureWords): #사전에 있는 단어의 출현 빈도수를 기준으로 내림차순 정리\n",
    "        max_val = [0, 0, 0] # Top3 출현 빈도수\n",
    "        max_key = ['NULL', 'NULL', 'NULL'] # Top3 출현 단어\n",
    "        temp_val = 0 # Top3 출현 빈도수를 바꾸기 위한 변수\n",
    "        temp_key = 'key' #Top3 출현 단어를 바꾸기 위한 변수\n",
    "        for key in pureWords:\n",
    "            length = len(max_val) #Top3의 index를 뒤에서 부터 접근하기 위해\n",
    "            count = 0\n",
    "            if(pureWords[key] > max_val[0]): #Top1의 값이 바뀐 경우\n",
    "                for val in max_val: #Top3가 바뀌면 바뀐 index 뒤에있는 값들이 한칸씩 뒤로간다\n",
    "                    count = count + 1\n",
    "                    max_val[length-count] = max_val[length-count-1]\n",
    "                    max_key[length-count] = max_key[length-count-1]\n",
    "                    if(count > 1): # 값을 하나씩 미루는 것을 2번 하면 종료\n",
    "                        count = 0\n",
    "                        break\n",
    "                max_val[0] = pureWords[key] #첫번째 값을 바꿈\n",
    "                max_key[0] = key\n",
    "                continue #Top3에 대해 변경하였으면 다음 단어의 Top3 포함 유무를 판단\n",
    "            if(pureWords[key] > max_val[1]): #Top2의 값이 바뀐 경우\n",
    "                for val in max_val:\n",
    "                    count = count + 1\n",
    "                    max_val[length-count] = max_val[length-count-1]\n",
    "                    max_key[length-count] = max_key[length-count-1]\n",
    "                    if(count > 0): #값을 하나씩 미루는 것을 1번 하면 종료\n",
    "                        count = 0\n",
    "                        break\n",
    "                max_val[1] = pureWords[key] #두번째 값을 바꿈\n",
    "                max_key[1] = key\n",
    "                continue #Top3에 대해 변경하였으면 다음 단어의 Top3 포함 유무를 판단\n",
    "            if(pureWords[key] > max_val[2]): #Top3의 값이 바뀐 경우\n",
    "                max_val[2] = pureWords[key] # 3번째 값을 바꿈\n",
    "                max_key[2] = key\n",
    "                continue #Top3에 대해 변경하였으면 다음 단어의 Top3 포함 유무를 판단\n",
    "        return max_key     \n",
    "        \n",
    "    @classmethod #stopwords를 모든 객체에서 가지고 있을 필요가 없어서\n",
    "    def registerStopWords(cls): #stopWords를 등록한다\n",
    "        file = open('Eng_StopWords.txt','r')\n",
    "        s = file.read()\n",
    "        cls.Eng_StopWords = s.split()\n",
    "        file.close()\n",
    "        \n",
    "        file = open('Kor_StopWords.txt','r')\n",
    "        s = file.read()\n",
    "        cls.Kor_StopWords = s.split()\n",
    "        file.close()\n",
    "        \n",
    "    @staticmethod #self가 필요 없고 클래스의 모든 객체에서 동일한 메소드이기 때문에\n",
    "    def delete_stopWords(pureWords): #stopWords에 있는 단어의 빈도수를 0으로 변환\n",
    "        for key in pureWords:\n",
    "            if(key in SearchEngine.Eng_StopWords):\n",
    "                pureWords[key]=0\n",
    "            if(key in SearchEngine.Kor_StopWords):\n",
    "                pureWords[key]=0\n",
    "     \n",
    "        \n",
    "        \n",
    "    @staticmethod     #self가 필요 없고 클래스의 모든 객체에서 동일한 메소드이기 때문에\n",
    "    def pureWord(source):\n",
    "        l = \"\" #태그가 지워진 HTML코드가 저장될 문자열\n",
    "        s = [] #<의 개수를 저장할 리스트\n",
    "        count = 0 #문자를 하나씩 읽을때, 현재 문자의 위치를 저장할 변수\n",
    "        isStyle = False # <style> 태그가 시작되었는지 확인\n",
    "        isScript = False # <script>태그가 시작되었는지 확인\n",
    "        punctuation = string.punctuation # 구두문자들\n",
    "        \n",
    "        #Stack의 개념을 통하여 문제 해결(단, HTML태그 안에서 < >를 단어취급 하고 싶으면 이스케이프와 같이 예외처리해야함)\n",
    "        for y in source:\n",
    "            if (y == '<' ): # 꺽쇠괄호 안에 있는 문자들은 모두 HTML 태그로 인식함\n",
    "                if(not(isScript) and source[count+1]=='s' and source[count+2]=='c' and source[count+3]=='r' and source[count+4]=='i' and source[count+5]=='p' and source[count+6]=='t'):\n",
    "                    count = count + 1\n",
    "                    isScript = True # <script>태그가 나오면 isScript를 True로\n",
    "                    s.append(y) # <script> 태서에서 앞에 나온 <를 지우기 위해서\n",
    "                    continue\n",
    "                if(not(isStyle) and source[count+1]=='s'and source[count+2]=='t' and source[count+3]=='y' and source[count+4]=='l' and source[count+5]=='e'):\n",
    "                    count = count +1\n",
    "                    isStyle = True # <style>태그가 나오면 isStyle를 True로\n",
    "                    s.append(y) # <style>태그에서 앞에 나온 <를 지우기 위해서\n",
    "                    continue\n",
    "                if(source[count-4] =='<' and source[count-3] =='!' and source[count-2] =='-' and source[count-1] =='-' and source[count+1]=='!'):\n",
    "                    count = count + 1 #HTML의 태그중<!--<!이 나오는 경우 >과로를 하나만 쓰는 경우가 있어 예외처리함\n",
    "                    continue\n",
    "                if (not(isScript) and not(isStyle)): # <script>태그와 <style>태그가 시작하면 태그들이 끝날때 까지 내용 무시\n",
    "                    count = count + 1\n",
    "                    s.append(y) #< > 꺽쇠괄호는 태그로 인식하고 지운다.\n",
    "                    continue\n",
    "            if (s == [] and not(isScript) and not(isStyle) and not(y in punctuation)):\n",
    "                l = l + y # < > 꺽쇠괄호 안에 있지 않고 <script>와 <html>태그 안에 있지 않으며 구두문자가 아니면 의미있는 문자\n",
    "            if y == '>' :\n",
    "                if (count > 0 and source[count-1]=='='): # => 가 나오면 무시\n",
    "                    count = count + 1\n",
    "                    continue\n",
    "                if ((count-6) > 0 and (isScript or isStyle)): # count가 6 이상이면 </stlye>과 </script>가 나올 수 있다.\n",
    "                    if (source[count-1]=='t' and source[count-2]=='p' and source[count-3]=='i' and source[count-4]=='r' and source[count-5]=='c'and source[count-6]=='s' and source[count-7]=='/'):\n",
    "                        isScript = False\n",
    "                        s.pop()\n",
    "                        count = count + 1\n",
    "                        continue\n",
    "                    if (source[count-1]=='e' and source[count-2]=='l'and source[count-3]=='y' and source[count-4]=='t' and source[count-5]=='s' and source[count-6]=='/'):\n",
    "                        isStyle = False\n",
    "                        count = count + 1\n",
    "                        s.pop()\n",
    "                        continue\n",
    "                if (not(isScript) and not(isStyle)): #<script>태그와 <style>태그 안에서는 내용 무시\n",
    "                    count = count + 1\n",
    "                    s.pop() # 꺽쇠괄호가 끝났는지 확인\n",
    "                    continue\n",
    "            count = count + 1 # 단어 하나를 읽음\n",
    "        pureWords = l.split() # 공백문자를 기준으로 단어를 나눔\n",
    "        countWord = {}\n",
    "        for x in pureWords:\n",
    "            if(x in countWord): #사전에 있는 단어이면 value를 증가\n",
    "                countWord[x] = countWord[x] + 1\n",
    "            else: #사전에 없는 단어이면 단어를 키워드로 value를 1로 저장\n",
    "                countWord[x] = 1\n",
    "        return countWord\n",
    "    \n",
    "    @staticmethod  #self가 필요 없고 클래스의 모든 객체에서 동일한 메소드이기 때문에\n",
    "    def decide_category(dict_words): # 사전에 들어있는 단어들이 어떤 카테고리에 가까운지 판단\n",
    "        category_similarity_list = {} # 각각의 카테고리와의 유사도 모음\n",
    "        #각각의 카테고리와의 유사도 모음\n",
    "        sience_count = 0\n",
    "        car_count = 0\n",
    "        edu_count = 0\n",
    "        IT_count = 0\n",
    "        art_count = 0\n",
    "        health_count = 0\n",
    "        issue_count = 0\n",
    "        for dict_word in dict_words:\n",
    "            #카테고리의 단어들이 사전에 있는 단어들에 들어 있으면 해당 카테고리의 빈도수를 증가\n",
    "            for category_word in SearchEngine.category_sience_words:\n",
    "                if (category_word in dict_word):\n",
    "                    sience_count = sience_count + 1\n",
    "            for category_word in SearchEngine.category_car_words:\n",
    "                if (category_word in dict_word):\n",
    "                    car_count = car_count + 1\n",
    "            for category_word in SearchEngine.category_education_words:\n",
    "                if (category_word in dict_word):\n",
    "                    edu_count = edu_count + 1\n",
    "            for category_word in SearchEngine.category_IT_words:\n",
    "                if (category_word in dict_word):\n",
    "                    IT_count = IT_count + 1\n",
    "            for category_word in SearchEngine.category_art_words:\n",
    "                if (category_word in dict_word):\n",
    "                    art_count = art_count + 1\n",
    "            for category_word in SearchEngine.category_health_words:\n",
    "                if (category_word in dict_word):\n",
    "                    health_count = health_count + 1\n",
    "            for category_word in SearchEngine.category_issue_words:\n",
    "                if (category_word in dict_word):\n",
    "                    issue_count = issue_count + 1\n",
    "        # 각각의 카테고리와의 유사도 모음 등록\n",
    "        category_similarity_list['sience']= sience_count\n",
    "        category_similarity_list['edu']= edu_count\n",
    "        category_similarity_list['car']= car_count\n",
    "        category_similarity_list['IT']= IT_count\n",
    "        category_similarity_list['art']= art_count\n",
    "        category_similarity_list['health']= health_count\n",
    "        category_similarity_list['issue']= issue_count\n",
    "        return  category_similarity_list  #해당 사전을 각각의 카테고리와의 유사도 모음 반환\n",
    "    \n",
    "    @staticmethod #self가 필요 없고 클래스의 모든 객체에서 동일한 메소드이기 때문에\n",
    "    def cmp_by_each_element(a): #유사도가 사전의 values에 저장이 되기 때문에\n",
    "        return a[1]\n",
    "    \n",
    "    def search(self): #검색 문장의 연관 link를 유사도의 내림차순으로 출력\n",
    "        statement = input()\n",
    "        urls = []\n",
    "        BeSearchedObject_WordList = [] # 각각의 링크의 Top3 단어\n",
    "        BeSearchedObject_CategoryList = [] # 각각의 링크의 Top3 카테고리\n",
    "        describe_url = {'https://cse.koreatech.ac.kr/':'#한기대 컴퓨터공학부',\\\n",
    "                   'https://post.naver.com/viewer/postView.nhn?volumeNo=17087591&memberNo=4444311':'#초현실주의 사진 14만명을 사로잡음',\\\n",
    "                   'http://www.etnews.com/20181115000026?mc=ns_005_00004':\"#반자율주행 실현한 볼보자동차 '지능형 안전기술'\",\\\n",
    "                   'http://kormedi.com/1255552/%EB%A7%90-%EC%95%88-%ED%86%B5%ED%95%98%EB%8A%94-%EC%82%AC%EB%9E%8C%EC%9D%98-%ED%8A%B9%EC%A7%95-7/':'#말 안통하는 사람의 특징 7',\\\n",
    "                   'https://www.nytimes.com/2018/11/15/technology/zuckerberg-facebook-sandberg-tactics.html':\"#Makr Zuckerberg Defends Facebook\"}\n",
    "        \n",
    "        pure_words = SearchEngine.pureWord(statement) # 검색 문장을 단어로 나눔\n",
    "        SearchEngine.delete_stopWords(pure_words) # 검색 문장 중에서 stopword를 제거\n",
    "        top3_category_statement_words = SearchEngine.export_decendOrder(SearchEngine.decide_category(pure_words)) # 검색 문장의 Top3 카테고리\n",
    "        top3_statement_words = SearchEngine.export_decendOrder(pure_words) # 검색 문장의 Top3 단어\n",
    "        \n",
    "        self.getWordsEachUrlFreqency() # 각각의 링크의 단어\n",
    "        self.getWordsEachUrlTop3() # 각각의 링크의 Top3 단어\n",
    "        self.getCategoryEachUrlTop3() # 각각의 링크의 Top3 카테고리\n",
    "       \n",
    "        for x in self:\n",
    "            urls.append(x) # 각각의 url을 저장\n",
    "            BeSearchedObject_WordList.append(self.top3words[x]) # 각각의 링크의 Top3 단어\n",
    "            BeSearchedObject_CategoryList.append(self.top3category[x]) # 각각의 링크의 Top3 카테고리\n",
    "    \n",
    "        \n",
    "        score_word = {} # 검색 문장의 Top3 단어와 각각의 링크의 Top3 단어 유사도 모음 (유사도는 1.0 만점)\n",
    "        score_category = {} # 검색 문장의 Top3 카테고리와 각각의 링크의 Top3 카테고리 유사도 모음 (유사도는 1.0 만점)\n",
    "        score_similarity_total = {} # 단어의 유사도와 카테고리의 유사도를 합한 유사도 모음 (유사도는 2.0 만점)\n",
    "        for index, x in enumerate(urls):\n",
    "            score_word[urls[index]] = 0 #각각의 링크의 단어 유사도 0으로 초기화\n",
    "        for index, x in enumerate(urls): \n",
    "            score_category[urls[index]] = 0 #각각의 링크의 카테고리 유사도 0으로 초기화\n",
    "        for index, x in enumerate(urls):\n",
    "            score_similarity_total[urls[index]] = 0 #각각의 링크의 총 유사도 0으로 초기화\n",
    "        \n",
    "        #각각의 링크의 단어 유사도 조사\n",
    "        for index1, BeSearchedObject_Words in enumerate(BeSearchedObject_WordList): #각각의 링크별 Top3 단어사전\n",
    "            for index2, BeSearchedObject_word in enumerate(BeSearchedObject_Words): #링크별 Top3 단어\n",
    "                for index3, top3_statement_word in enumerate(top3_statement_words): #검색 문장의 Top3 단어를 링크의 Top3 단어들과 비교\n",
    "                    if (top3_statement_word in BeSearchedObject_word): # 검색 문장의 Top3 단어가 단어사전의 Top3 단어들에 언급 되었는지 판단\n",
    "                        score_word[urls[index1]] = score_word[urls[index1]] + (18 - 3*(index2 + index3)) #index2와 index3가 top1이면 18점\n",
    "            score_similarity_total[urls[index1]] = score_word[urls[index1]]/(18*(len(top3_statement_words)**2))#만점:18*(len(top3_statement_words)**2)\n",
    "         \n",
    "        #각각의 링크의 카테고리 유사도 조사\n",
    "        for index1, BeSearchedObject_CategoryWords in enumerate(BeSearchedObject_CategoryList): #각각의 링크별 Top3 카테고리 모음\n",
    "            for index2, BeSearchedObject_CategoryWord in enumerate(BeSearchedObject_CategoryWords):#링크별 Top3 카테고리\n",
    "                for index3, top3_category_statement_word in enumerate(top3_category_statement_words): #검색 문장의 Top3 카테고리를 링크의 Top3 단어들과 비교\n",
    "                    if (top3_category_statement_word == 'NULL'):#검색문장의 top3 카테고리가 NULL인 경우 다음 카테고리 단어로 넘어간다\n",
    "                        continue\n",
    "                    if (top3_category_statement_word in BeSearchedObject_CategoryWord):#검색 문장의 Top3 카테고리가 링크 Top3 카테고리 단어들에 언급 되었는지 판단\n",
    "                        score_category[urls[index1]] = score_category[urls[index1]] + (18 - 3*(index2 + index3)) #index2와 index3가 top1이면 18점\n",
    "            score_similarity_total[urls[index1]] += score_category[urls[index1]]/(18*(len(top3_statement_words)))#만점:18*(len(top3_statement_words))\n",
    "        \n",
    "        result = list(score_similarity_total.items())\n",
    "        result.sort(key = SearchEngine.cmp_by_each_element) #링크별 총 유사도를 기준으로 내림차순\n",
    "        result.reverse() #총 유사도를 기준으로 내림차순 정렬되어있는 것을 순서를 반대로\n",
    "        for url,freq in result: # 검색 문장과 유사도가 높은 url부터 출력\n",
    "            print(url)\n",
    "            print(describe_url[url], freq) # 해당 url의 설명과 총 유사도\n",
    "            print()\n",
    "    def searchUrlByWord(self,statement): #검색 문장의 연관 link를 유사도의 내림차순으로 출력\n",
    "        urls = []\n",
    "        BeSearchedObject_WordList = [] # 각각의 링크의 Top3 단어\n",
    "        BeSearchedObject_CategoryList = [] # 각각의 링크의 Top3 카테고리\n",
    "        describe_url = {'https://cse.koreatech.ac.kr/':'#한기대 컴퓨터공학부',\\\n",
    "                   'https://post.naver.com/viewer/postView.nhn?volumeNo=17087591&memberNo=4444311':'#초현실주의 사진 14만명을 사로잡음',\\\n",
    "                   'http://www.etnews.com/20181115000026?mc=ns_005_00004':\"#반자율주행 실현한 볼보자동차 '지능형 안전기술'\",\\\n",
    "                   'http://kormedi.com/1255552/%EB%A7%90-%EC%95%88-%ED%86%B5%ED%95%98%EB%8A%94-%EC%82%AC%EB%9E%8C%EC%9D%98-%ED%8A%B9%EC%A7%95-7/':'#말 안통하는 사람의 특징 7',\\\n",
    "                   'https://www.nytimes.com/2018/11/15/technology/zuckerberg-facebook-sandberg-tactics.html':\"#Makr Zuckerberg Defends Facebook\"}\n",
    "        \n",
    "        pure_words = SearchEngine.pureWord(statement) # 검색 문장을 단어로 나눔\n",
    "        SearchEngine.delete_stopWords(pure_words) # 검색 문장 중에서 stopword를 제거\n",
    "        top3_category_statement_words = SearchEngine.export_decendOrder(SearchEngine.decide_category(pure_words)) # 검색 문장의 Top3 카테고리\n",
    "        top3_statement_words = SearchEngine.export_decendOrder(pure_words) # 검색 문장의 Top3 단어\n",
    "        \n",
    "        self.getWordsEachUrlFreqency() # 각각의 링크의 단어\n",
    "        self.getWordsEachUrlTop3() # 각각의 링크의 Top3 단어\n",
    "        self.getCategoryEachUrlTop3() # 각각의 링크의 Top3 카테고리\n",
    "       \n",
    "        for x in self:\n",
    "            urls.append(x) # 각각의 url을 저장\n",
    "            BeSearchedObject_WordList.append(self.top3words[x]) # 각각의 링크의 Top3 단어\n",
    "            BeSearchedObject_CategoryList.append(self.top3category[x]) # 각각의 링크의 Top3 카테고리\n",
    "    \n",
    "        \n",
    "        score_word = {} # 검색 문장의 Top3 단어와 각각의 링크의 Top3 단어 유사도 모음 (유사도는 1.0 만점)\n",
    "        score_category = {} # 검색 문장의 Top3 카테고리와 각각의 링크의 Top3 카테고리 유사도 모음 (유사도는 1.0 만점)\n",
    "        score_similarity_total = {} # 단어의 유사도와 카테고리의 유사도를 합한 유사도 모음 (유사도는 2.0 만점)\n",
    "        for index, x in enumerate(urls):\n",
    "            score_word[urls[index]] = 0 #각각의 링크의 단어 유사도 0으로 초기화\n",
    "        for index, x in enumerate(urls): \n",
    "            score_category[urls[index]] = 0 #각각의 링크의 카테고리 유사도 0으로 초기화\n",
    "        for index, x in enumerate(urls):\n",
    "            score_similarity_total[urls[index]] = 0 #각각의 링크의 총 유사도 0으로 초기화\n",
    "        \n",
    "        #각각의 링크의 단어 유사도 조사\n",
    "        for index1, BeSearchedObject_Words in enumerate(BeSearchedObject_WordList): #각각의 링크별 Top3 단어사전\n",
    "            for index2, BeSearchedObject_word in enumerate(BeSearchedObject_Words): #링크별 Top3 단어\n",
    "                for index3, top3_statement_word in enumerate(top3_statement_words): #검색 문장의 Top3 단어를 링크의 Top3 단어들과 비교\n",
    "                    if (top3_statement_word in BeSearchedObject_word): # 검색 문장의 Top3 단어가 단어사전의 Top3 단어들에 언급 되었는지 판단\n",
    "                        score_word[urls[index1]] = score_word[urls[index1]] + (18 - 3*(index2 + index3)) #index2와 index3가 top1이면 18점\n",
    "            score_similarity_total[urls[index1]] = score_word[urls[index1]]/(18*(len(top3_statement_words)**2))#만점:18*(len(top3_statement_words)**2)\n",
    "         \n",
    "        #각각의 링크의 카테고리 유사도 조사\n",
    "        for index1, BeSearchedObject_CategoryWords in enumerate(BeSearchedObject_CategoryList): #각각의 링크별 Top3 카테고리 모음\n",
    "            for index2, BeSearchedObject_CategoryWord in enumerate(BeSearchedObject_CategoryWords):#링크별 Top3 카테고리\n",
    "                for index3, top3_category_statement_word in enumerate(top3_category_statement_words): #검색 문장의 Top3 카테고리를 링크의 Top3 단어들과 비교\n",
    "                    if (top3_category_statement_word == 'NULL'):#검색문장의 top3 카테고리가 NULL인 경우 다음 카테고리 단어로 넘어간다\n",
    "                        continue\n",
    "                    if (top3_category_statement_word in BeSearchedObject_CategoryWord):#검색 문장의 Top3 카테고리가 링크 Top3 카테고리 단어들에 언급 되었는지 판단\n",
    "                        score_category[urls[index1]] = score_category[urls[index1]] + (18 - 3*(index2 + index3)) #index2와 index3가 top1이면 18점\n",
    "            score_similarity_total[urls[index1]] += score_category[urls[index1]]/(18*(len(top3_statement_words)))#만점:18*(len(top3_statement_words))\n",
    "        \n",
    "        result = list(score_similarity_total.items())\n",
    "        result.sort(key = SearchEngine.cmp_by_each_element) #링크별 총 유사도를 기준으로 내림차순\n",
    "        result.reverse() #총 유사도를 기준으로 내림차순 정렬되어있는 것을 순서를 반대로\n",
    "        top1 = result[0][1]\n",
    "        for url,freq in result: # 검색 문장과 유사도가 높은 url부터 출력\n",
    "            if(top1 == freq):\n",
    "                print(url)\n",
    "                print(describe_url[url], freq) # 해당 url의 설명과 총 유사도\n",
    "                top1 = freq\n",
    "                print()\n",
    "            else:\n",
    "                break\n",
    "    \n",
    "    "
   ]
  },
  {
   "cell_type": "code",
   "execution_count": 27,
   "metadata": {},
   "outputs": [
    {
     "name": "stdout",
     "output_type": "stream",
     "text": [
      "https://cse.koreatech.ac.kr/\n",
      "https://post.naver.com/viewer/postView.nhn?volumeNo=17087591&memberNo=4444311\n",
      "http://www.etnews.com/20181115000026?mc=ns_005_00004\n"
     ]
    }
   ],
   "source": [
    "w1 = SearchEngine('https://cse.koreatech.ac.kr/','https://post.naver.com/viewer/postView.nhn?volumeNo=17087591&memberNo=4444311','http://www.etnews.com/20181115000026?mc=ns_005_00004')\n",
    "w1.listUrls()\n",
    "SearchEngine.registerStopWords()"
   ]
  },
  {
   "cell_type": "code",
   "execution_count": 28,
   "metadata": {},
   "outputs": [
    {
     "name": "stdout",
     "output_type": "stream",
     "text": [
      "https://cse.koreatech.ac.kr/\n",
      "https://post.naver.com/viewer/postView.nhn?volumeNo=17087591&memberNo=4444311\n",
      "http://www.etnews.com/20181115000026?mc=ns_005_00004\n",
      "http://kormedi.com/1255552/%EB%A7%90-%EC%95%88-%ED%86%B5%ED%95%98%EB%8A%94-%EC%82%AC%EB%9E%8C%EC%9D%98-%ED%8A%B9%EC%A7%95-7/\n",
      "https://www.nytimes.com/2018/11/15/technology/zuckerberg-facebook-sandberg-tactics.html\n"
     ]
    }
   ],
   "source": [
    "w1.addUrl('http://kormedi.com/1255552/%EB%A7%90-%EC%95%88-%ED%86%B5%ED%95%98%EB%8A%94-%EC%82%AC%EB%9E%8C%EC%9D%98-%ED%8A%B9%EC%A7%95-7/')\n",
    "w1.addUrl('https://www.nytimes.com/2018/11/15/technology/zuckerberg-facebook-sandberg-tactics.html')\n",
    "w1.listUrls()"
   ]
  },
  {
   "cell_type": "code",
   "execution_count": 29,
   "metadata": {
    "scrolled": false
   },
   "outputs": [
    {
     "name": "stdout",
     "output_type": "stream",
     "text": [
      "https://www.nytimes.com/2018/11/15/technology/zuckerberg-facebook-sandberg-tactics.html\n",
      "#Makr Zuckerberg Defends Facebook 0.4074074074074074\n",
      "\n"
     ]
    }
   ],
   "source": [
    "w1.searchUrlByWord('Facebook')"
   ]
  },
  {
   "cell_type": "code",
   "execution_count": 30,
   "metadata": {},
   "outputs": [
    {
     "name": "stdout",
     "output_type": "stream",
     "text": [
      "https://cse.koreatech.ac.kr/\n",
      "https://post.naver.com/viewer/postView.nhn?volumeNo=17087591&memberNo=4444311\n"
     ]
    }
   ],
   "source": [
    "w2 = SearchEngine('https://cse.koreatech.ac.kr/','https://post.naver.com/viewer/postView.nhn?volumeNo=17087591&memberNo=4444311')\n",
    "w2.listUrls()"
   ]
  },
  {
   "cell_type": "code",
   "execution_count": 31,
   "metadata": {},
   "outputs": [],
   "source": [
    "w3 = SearchEngine()\n",
    "w3.listUrls()"
   ]
  },
  {
   "cell_type": "code",
   "execution_count": 32,
   "metadata": {},
   "outputs": [
    {
     "name": "stdout",
     "output_type": "stream",
     "text": [
      "https://post.naver.com/viewer/postView.nhn?volumeNo=17087591&memberNo=4444311\n"
     ]
    }
   ],
   "source": [
    "w2.removeUrl('https://cse.koreatech.ac.kr/')\n",
    "w2.listUrls()"
   ]
  },
  {
   "cell_type": "code",
   "execution_count": 33,
   "metadata": {
    "scrolled": true
   },
   "outputs": [
    {
     "name": "stdout",
     "output_type": "stream",
     "text": [
      "https://cse.koreatech.ac.kr/\n",
      "{'컴퓨터공학부': 8, 'Schoolfun': 1, 'Study': 1, 'and': 0, 'Fun': 1, '로그인': 4, '아이디': 1, '비밀번호': 1, '유지': 2, '브라우저를': 1, '닫더라도': 1, '로그인이': 1, '계속': 1, '유지될': 1, '수': 0, '있습니다': 1, '기능을': 1, '사용할': 1, '경우': 1, '다음': 0, '접속부터는': 1, '로그인할': 1, '필요가': 1, '없습니다': 1, '단': 1, '게임방': 1, '학교': 1, '등': 0, '공공장소에서': 1, '이용': 1, '시': 1, '개인정보가': 1, '유출될': 1, '있으니': 1, '꼭': 1, '로그아웃을': 1, '해주세요': 1, '회원가입': 1, 'IDPW': 1, '찾기': 1, 'IT': 5, '교육의': 2, '글로벌': 3, '메카한국기술교육대학교': 1, 'Close': 1, '소개': 1, '구성원소개': 1, '학사안내': 1, '입학': 1, '학부': 1, '대학원': 2, '학부광장': 1, '자료실': 2, '공학교육인증': 1, '학부서비스': 1, 'Registration': 1, 'School': 1, 'of': 0, 'Computer': 1, 'Science': 1, 'Engineering': 1, '융합소프트웨어': 3, '인력양성사업': 3, 'CK': 1, 'Creative': 1, 'KoreaI': 1, '교육역량강화사업': 3, '온라인': 3, '컨텐츠': 2, 'Online': 1, 'Contents': 1, 'for': 0, 'Education': 1, 'Capability': 1, 'Empowerment': 1, '메카': 1, '한국기술교육대학교': 5, '홈페이지에': 1, '오신': 1, '것을환영합니다': 1, '수준의': 1, 'IT전문인력': 1, '양성': 1, 'IT융합분야에': 1, '대한': 1, '국제적인': 1, '경쟁력': 1, '고취': 1, '바로가기': 2, '컨텐츠를': 1, '소개합니다': 1, '공지사항': 1, '특성화': 3, '20182학기': 2, '성적우수역량강화': 1, '장학금': 1, '신청': 2, '20181207': 9, '1353': 2, '2018동계방학': 1, '사업단': 1, '근로': 1, '장학생': 1, '모집': 3, '안내': 2, '20181205': 2, '1248': 2, '신문고': 1, '장학': 1, '1127': 2, 'LINC사업단4차': 1, '산업혁명': 1, '관련': 1, '교과과정': 1, '및': 0, '사업설명': 1, '20181130': 1, '1743': 2, '2018': 1, 'IT융합': 1, '아이디어': 1, '경진대회': 1, '최종': 1, '결과': 2, '공지': 2, '20181129': 3, '1635': 2, '자유게시판': 1, '▶10대': 1, '컴퓨터': 1, '공학부': 1, '학생회': 1, '부원': 1, '공고': 2, '20181202': 1, '1842': 2, '졸업앨범': 1, '구매자': 1, '조사': 1, '20181201': 1, '2259': 2, '★': 3, '2019': 2, '학회장': 3, '부학회장': 2, '개표': 1, '2001': 2, '2018년': 1, '2학기': 1, '종강총회': 1, 'ampamp': 1, '부': 1, '20181128': 1, '0130': 2, '●제': 1, '10대': 1, '후보자': 1, '등록': 1, '20181120': 1, '2014': 2, '취업게시판': 1, '아산': 1, '마그나파워트레인코리아주외국계IT': 1, '네트': 1, '20181204': 1, '0933': 2, '판교': 1, '영우DSP': 1, '장비제어': 1, '프로그램': 1, '검사': 1, '알고리즘': 1, '0906': 2, '비트컴퓨터': 1, '교육사업부': 1, '교육운영관리': 1, '담당자': 1, '11월': 1, '16일': 1, '20181112': 2, '1451': 2, '플링크': 1, '증감현실': 1, '시스템': 1, '콘텐츠': 1, '개발': 1, '청주': 1, '11': 1, '1441': 2, 'ITCEN': 1, 'GROUP': 1, '신입': 1, '공채': 1, '7기': 1, '채용': 1, '20181118': 1, '20181107': 1, '1428': 2, 'Platum': 1, '대치동에': 1, '스타트업': 4, '종사자': 1, '우선': 0, '입주': 1, '사회주택': 1, '생긴다': 1, '20181208': 7, '2148': 2, '12월': 2, '둘째': 1, '주': 1, '이벤트12101216': 1, '1413': 2, '스타트업캠퍼스': 1, 'OZ': 1, '4기': 1, '참가자': 1, '1128': 2, '7일': 1, '비즈니스': 1, '동향하이퍼커넥트네오': 1, '1009': 2, '경기문화창조허브': 1, '‘2018': 1, 'GHUB': 1, 'DEMODAY’': 1, '성료': 1, '1005': 2, '전자신문': 1, '내년부터': 1, '5G': 1, '투자에': 1, '세액공제': 1, '최대': 1, '3···투자활': 1, '2043': 2, '와이브로': 1, '역사의': 1, '뒤안길로KT·SK텔레콤': 1, '연말': 1, '1445': 2, '딜라이브': 1, 'OTT박스에': 1, '모바일게임': 1, '이누야샤': 1, '탑재': 1, '1109': 2, 'KCTA': 1, '케이블TV': 1, '선거방송': 1, '백서': 1, '발간': 1, '1038': 4, 'U아이돌Live': 1, '다운로드': 1, '12만': 1, '돌파“주': 1, '이용자': 1, 'TechCrunch': 1, 'Coinbase': 1, 'abandons': 1, 'its': 0, 'cautious': 1, 'approach': 1, 'with': 0, 'p': 0, '1514': 2, 'Uber': 1, 'files': 1, 'confidentially': 1, 'IPO': 2, '1049': 2, 'Report': 1, 'Slack': 1, 'is': 0, 'prepping': 1, 'an': 0, 'next': 0, 'year': 0, '0947': 2, 'Qualcomm': 1, 'lays': 1, 'off': 0, '269': 1, 'employees': 1, 'in': 0, 'North': 1, 'Carol': 1, '0833': 2, 'Listen': 1, 'to': 0, 'the': 0, 'soothing': 1, 'sounds': 1, 'Martian': 1, 'wind': 1, '0722': 2, 'Quick': 1, 'Navigation': 1, '홈페이지': 1, 'WEBMAIL': 1, '평생교육원': 1, '교직원': 1, '업무': 1, 'Campus': 1, 'Location': 1, 'Contact': 1, 'CSE': 1, '충청남도': 2, '천안시': 2, '동남구': 2, '병천면': 2, '충절로': 2, '1600한국기술교육대학교': 1, '학과사무실': 1, 'TEL': 1, '041': 2, '560': 2, '1460': 1, '1461': 1, 'FAX': 1, '1462': 1, 'Facebook': 1, '31253': 1, '1600': 1, '가전리': 1, 'Copyright': 1, '©': 1, '2015': 1, 'All': 1, 'rights': 1, 'reserved': 1}\n",
      "https://post.naver.com/viewer/postView.nhn?volumeNo=17087591&memberNo=4444311\n",
      "{'초현실주의': 2, '사진으로': 1, '14만': 1, '명을': 1, '사로잡은': 1, '19세': 1, '스타': 1, '아티스트': 1, '네이버': 3, '포스트': 3, '본문': 1, '바로가기': 1, '이전화면으로': 2, '가기': 2, 'beta': 1, '시리즈팔로우': 1, '팔로잉': 1, '공유하기': 2, '쓰기': 1, '기본': 1, '크게': 1, '작성자': 1, '보기': 2, 'URL': 1, '복사': 1, '북마크': 1, '앱으로': 1, '신고': 1, '초현실주의사진': 1, '초현실주의예술': 1, '사진작가': 1, '뉴스': 1, '뉴스판': 1, '이슈': 1, '해외토픽': 1, '월드뉴스': 1, '예쁜사진': 1, '으로': 0, '쓴': 1, '글입니다': 1, '자세히보기': 1, '좋아요': 1, '한': 0, '사람': 1, '보러가기': 1, '덧글': 1}\n",
      "http://www.etnews.com/20181115000026?mc=ns_005_00004\n",
      "{'카amp테크반자율주행': 1, '실현한': 2, '볼보자동차': 2, '지능형': 3, '안전기술': 2, '전자신문': 10, '닫기': 1, 'EnterOnNews': 1, 'Conference': 1, 'allshowTV': 2, 'English': 1, '검색': 1, '전체메뉴보기': 1, '전체메뉴': 1, '뉴스': 2, '속보': 1, '통신amp방송': 2, 'SWamp게임amp성장기업': 2, '소재amp부품': 2, '전자amp자동차amp유통': 2, '경제amp금융': 2, '산업amp과학amp정책': 2, '전국': 2, '글로벌': 3, '인사middot부음': 2, '오피니언': 2, '특집': 2, '연재': 2, '뷰포인트': 2, '스페셜': 1, '포토middot동영상': 1, '비주얼IT': 1, '카드뉴스': 1, '모션그래픽': 1, '인포그래픽': 1, '부가서비스': 1, '콘퍼런스': 1, 'IT': 1, '전시': 1, '컨벤션': 1, 'ET프리미엄': 1, 'PDF': 1, '서비스': 3, '안내': 1, '신문구독신청': 1, '온라인광고안내': 1, '콘텐츠구매': 1, '번역센터': 1, '초판서비스': 1, '회원': 1, '로그인': 1, '회원가입': 1, '패밀리미디어': 2, 'CIOBIZ': 2, 'GreenDaily': 2, 'NextDaily': 1, 'RPM9': 2, '페이스북': 1, '트위터': 1, '유튜브': 1, '테일러': 1, '리포트': 1, 'FA·IT·통신': 1, '기술': 5, '접목한': 1, '스마트팩토리는인더스트리': 1, '40': 2, '디지털': 1, '인사이트': 1, '2018': 3, '23일': 1, '개최': 1, '인더스트리': 1, '시대를': 1, '맞아': 1, '제조': 1, '분야에': 1, '디지털혁신': 1, '바람이': 1, '불고': 1, '있는': 3, '가운데': 1, '국내': 1, '제조기업에': 1, '적합하면서도': 1, '보다': 1, '진보': 1, '5': 0, '박종현': 1, 'KEBA코리아': 1, '지사장': 1, '“자율생산은': 1, '기계': 1, '통제': 1, '고민부터': 1, '없애야': 1, '한다”': 1, '6박현': 1, '지브라테크놀로지코리아': 1, '이사': 1, '“옴니채널': 1, '시대에': 1, '빠른': 2, '고객': 1, '쇼핑': 1, '지원체제가': 1, '경쟁력이다”': 1, '카테크반자율주행': 1, '발행일': 1, '20181115': 1, '글자': 2, '작게': 1, '크게': 1, '인쇄하기': 1, '세계': 1, '최초': 1, '안전': 2, '기술을': 1, '20개': 1, '이상': 0, '보유한': 1, '볼보자동차는': 1, '자사': 1, '스포츠유틸리티차량SUV': 1, '라인업': 1, 'XC': 1, '레인지를': 1, '선보이면서': 1, '시스템': 4, '39인텔리세이프Intelisafe39를': 1, '한': 0, '단계': 1, '업그레이드했다': 1, '인텔리세이프': 1, '대표': 1, '39파일럿': 1, '어시스트': 5, 'IIPilot': 1, 'Assist': 1, 'II39는': 1, '최신': 1, '반자율주행': 1, '시스템이다': 1, '조향장치': 1, '도움을': 3, '받아': 1, '차량이': 10, '차선을': 5, '유지해': 1, '달릴': 3, '수': 0, '있도록': 4, '도와주는': 1, '기술로': 2, '완전': 1, '자율주행차': 1, '개발의': 1, '중간': 1, '단계라': 1, '할': 0, '있다': 0, 'lt볼보자동차': 3, '파일럿': 4, 'II': 2, '이미지gt': 3, 'II는': 2, '가속과': 1, '제동을': 2, '관리하면서': 1, '앞차와의': 1, '간격을': 1, '일정하게': 1, '유지해주는': 1, '어댑티브': 1, '크루즈': 1, '컨트롤ACC과': 1, '달리': 1, '전방에': 1, '감지되는': 1, '없이도': 1, '최고': 3, '140㎞h까지': 1, '차선': 6, '이탈': 6, '없이': 2, '있게': 1, '돕는다': 2, '아울러': 0, '기존': 1, '유지': 1, '기능LKA이': 1, '지원하던': 1, '조향': 5, '지원도': 1, '더': 2, '적극': 1, '개입한다': 1, 'LKA가': 1, '이탈하는': 2, '경우': 4, '차량을': 5, '내로': 1, '복귀시키는': 1, '개념이었다면': 1, '양쪽': 1, '사이': 1, '중앙에서': 1, '유지해준다': 1, '적용으로': 1, '운전자는': 1, '차선이': 1, '표시된': 1, '고속도로': 1, '등': 0, '장거리': 1, '주행에서': 1, '편리하고': 1, '안전하게': 1, '운행할': 1, '39도로': 2, '보호': 1, '시스템RunOff': 1, 'Road': 1, 'Protection39은': 1, '도로': 8, '사고': 2, '시': 2, '발생할': 2, '흉추와': 1, '요추': 1, '부상을': 2, '완화하기': 1, '위한': 2, '기술이다': 2, '상황에서': 2, '운전자를': 1, '재빠르게': 1, '시트에': 1, '최대한': 1, '밀착시켜': 1, '최소화한다': 1, '실제': 1, '도로에서': 1, '자동차가': 1, '도로를': 2, '상황의': 1, '계산': 1, '값을': 1, '저장': 1, '급제동과': 1, '긴급': 2, '회피': 4, 'XYZ축': 1, '방향': 1, '가속': 1, '신호가': 1, '이를': 1, '감지한다': 1, '이후': 1, '안전벨트에': 1, '압력을': 1, '줘': 1, '탑승자': 1, '상체를': 1, '충돌이': 2, '일어나는': 1, '반대': 1, '방향으로': 1, '고정한다': 1, '또': 0, '좌석에': 1, '적용한': 1, '에너지': 1, '흡수': 1, '장치가': 1, '이탈로': 1, '인한': 1, '차량': 4, '추돌': 2, '발생하는': 1, '충격을': 1, '흡수한다': 1, '시티': 1, '세이프티': 1, '보행자': 2, '감지': 3, '제동': 1, '39시티': 1, '세이프티City': 1, 'Safety39는': 1, '앞차와': 1, '자전거를': 1, '감지하는': 1, '기술은': 1, '물론': 0, '대형': 2, '동물': 1, '교차로': 1, '방지': 1, '등을': 1, '포함한다': 1, '충돌': 4, '방지에': 1, '주는': 1, '다양한': 1, '주간은': 1, '야간에도': 1, '작동한다': 2, '39충돌': 1, '지원': 4, '기능39은': 3, '운전자가': 2, '의도하지': 1, '않게': 1, '이탈해': 1, '다른': 0, '차량이나': 1, '장애물과': 1, '충돌할': 1, '위험을': 2, '줄이는': 1, '데': 1, '주기': 1, '이': 0, '기능은': 2, '△도로': 1, '완화': 2, '기능Runoff': 1, 'Mitigation': 2, '△반대': 1, '접근': 2, '기능Oncoming': 1, 'Lane': 1, '△조향': 1, '적용': 2, '사각지대': 3, '정보': 3, '시스템BLIS': 1, 'with': 0, 'steer': 1, 'assist으로': 1, '구성된다': 1, '차선이나': 1, '이탈할': 1, '위험이': 1, '감지되면': 1, '지원과': 1, '통해': 2, '다시': 0, '위로': 2, '위치시킨다': 1, '카메라가': 1, '측면과': 1, '도색된': 1, '탐색': 1, '측면을': 1, '벗어나고자': 1, '하는': 0, '움직임을': 1, '보이면': 1, '지원으로': 1, '움직인다': 1, '지원만으로': 1, '이탈을': 1, '피하기': 1, '어려울': 1, '브레이크를': 1, '39반대': 1, '마주': 1, '오는': 1, '차량과': 1, '임박할': 1, '기능을': 1, '작동': 1, '원래': 2, '차선으로': 2, '되돌아갈': 1, '유도한다': 1, '시스템을': 1, '작동하면': 1, '작동을': 1, '알리는': 1, '메시지가': 1, '운전자': 1, '계기판': 1, '중앙에': 1, '표시된다': 1, '39조향': 1, '시스템39은': 1, '후방': 2, '사각지대에': 1, '있거나': 1, '옆': 1, '차선에서': 1, '빠르게': 1, '접근하고': 2, '있을': 1, '때': 0, '조향을': 1, '지원해': 1, '위치할': 1, '있음을': 1, '인식하지': 1, '못하고': 1, '변경할': 1, '줄인다': 1, '정치연': 1, '자동차': 1, '전문기자': 1, 'chiyeonetnewscom': 1, '기자의': 1, '기사': 2, '보기': 1, '단독2조5000억원': 1, '수혈한': 1, '쿠팡': 2, '고양에': 1, '초대형': 2, '풀필먼트': 1, '센터': 1, '구축': 1, '삼성전자': 3, '158명': 2, '승진': 3, '임원': 2, '인사DS부문': 2, '12명': 2, '발탁': 2, '삼성': 2, '전자계열사': 2, '안정': 2, '속': 2, '변화': 2, '택했다…김기남': 1, '부회장·노태문': 1, '사장': 1, '김기남': 2, '부회장': 2, '승진삼성전자': 2, '사장단': 2, '인사': 2, '삼성LG': 1, '4분기': 1, '실적': 1, '우려…연간': 1, '실적에도': 1, '웃지': 1, '못해': 1, '친구차': 1, '탔더니': 1, '이런게': 1, '있던데': 1, '와이셔츠': 1, '다리미판': 1, '10초만에': 1, '쫙': 1, '트랜드코리아의': 1, '그뤠잇': 1, '특가': 1, '네파': 1, '등산복': 1, '울스포츠': 1, '경량': 1, '점퍼': 1, '유아동': 2, '감성원피스': 1, '겨울': 1, '딱이야': 1, '이점퍼': 1, 'copy': 2, 'amp': 1, 'etnewscom': 1, '무단전재': 1, '및': 0, '재배포금지': 1, '라이브리': 1, '댓글': 1, '작성을': 1, '위해': 2, 'JavaScript를': 1, '활성화': 1, '해주세요': 1, 'BIZPLUS': 1, 'SBA': 2, '명지전문대와': 1, '가상·증강현실': 1, '전문인력': 1, '양성': 1, '판로지원': 1, '中企': 1, '탄력': 1, '가시화…지원기업': 1, '닷': 1, '450만달러': 1, '규모': 1, '수출': 1, 'SBA서울산업진흥원': 1, '올해의': 1, '일자리대상': 1, '수상…산업맞춤': 1, '일자리': 2, '창출': 1, '공로': 1, '인정': 1, '치주염': 1, '구취': 1, '막는데': 1, '방법이': 1, '영화관을': 1, '통째로': 1, '집으로': 1, '옮겼다': 1, '바리스타': 1, '뺨치는': 1, '라테아트': 1, '비결은': 1, '클라우드': 1, '데이터': 1, '웨어하우스의': 1, '시대가': 1, '온다': 1, '12': 1, '18일화': 1, '1400': 1, '1700': 1, '이향선의': 1, '테크비전': 1, '기업': 2, '성공의': 1, '지름길': 1, '통합': 1, '빅데이터': 1, '분석': 1, '플랫폼': 1, '펜타호': 1, '애드버토리얼': 1, '현대차': 1, '어린이': 1, '방치': 1, '예방': 1, '기능': 1, '장착한': 1, '통학': 1, '전달': 1, '많이': 1, '본': 1, '삼겹살': 1, '기름': 1, '연기없이': 1, '먹는': 1, '방법': 1, '연료': 1, '채운': 1, '로켓배송': 1, '물류거점': 1, '짓는다': 1, 'LG화학': 1, '배터리': 2, '기술력': 1, 'BMW': 1, '전장': 1, '부품': 1, '뚫었다': 1, '강국': 1, '韓4대': 1, '핵심소재': 1, '점유율은': 1, '자릿수': 1, '택했다': 1, '퀄컴': 1, '7나노': 1, 'PC': 1, '프로세서': 1, '스냅드래곤': 1, '8cx': 1, '발표': 1, '구멍뚫린': 1, '프린터': 1, '보안인쇄물': 1, '수백장': 1, '출력돼': 1, '혼란': 1, '터치앤리뷰': 1, '5개': 1, '렌즈': 1, '담은': 1, '‘LG': 1, 'V40': 1, 'ThinQ’': 1, '시선': 1, 'DSLR과': 1, '차별화된': 1, '일상': 1, '담기': 1, '최강의': 1, '게임': 1, '플레이를': 1, '탄생': 1, '오디세이Z': 1, 'quot아마존': 1, '매장에': 1, '계산원': 1, '없는': 1, '판매': 1, '애플': 1, '軍': 1, '전용': 1, '온라인': 2, '스토어': 1, '개설': 1, '구글': 1, '웨이모': 1, '미국에서': 1, '자율주행': 1, '상용': 1, '택': 1, '카amp테크램프': 1, '패러다임의': 1, '전환': 1, '헤드램': 1, '눈번쩍': 1, 'News': 1, 'TV': 1, '캐스트': 1, '비즈니스': 1, '3대': 1, '고민': 1, '포스트': 1, 'IT로': 1, '독거노인': 1, '돌보는': 1, '텔레케어': 1, '아시나요': 1, '창출과': 1, '기술혁신에': 1, '앞장선': 1, '과학기술인협동조합': 1, '이야기': 1, '회사소개': 2, '지면광고': 1, '행사문의': 1, '전자신문인터넷': 2, '이용약관': 1, '개인정보취급방침': 1, '보도자료': 1, '이용문의': 1, '사이트맵': 1, '상호': 1, '12828전자신문인터넷': 1, '주소': 1, '서울시': 1, '금천구': 1, '가산디지털2로': 1, '123': 1, '701호': 1, '대표이사': 1, '이선기': 2, '사업자번호': 1, '1078180959': 1, '대표전화번호': 1, '028570114': 1, '등록번호': 1, '서울': 1, '아04494': 1, '제호': 1, '등록일자': 1, '2017년': 1, '04월': 2, '27일': 1, '발행일자': 1, '1996년': 1, '10일': 1, '발행·편집인': 1, '청소년보호책임자': 1, '조성묵': 1, 'Copyright': 1, 'Electronic': 1, 'Times': 1, 'Internet': 1, 'All': 1, 'Rights': 1, 'Reserved': 1, 'Nextdaily': 1, '보안닷컴': 1}\n",
      "http://kormedi.com/1255552/%EB%A7%90-%EC%95%88-%ED%86%B5%ED%95%98%EB%8A%94-%EC%82%AC%EB%9E%8C%EC%9D%98-%ED%8A%B9%EC%A7%95-7/\n",
      "{'말': 2, '안': 0, '통하는': 2, '사람의': 5, '특징': 3, '7': 0, '코메디닷컴': 5, '바이오워치': 2, '건강선물': 1, '속삭닷컴': 1, '바디로': 1, 'Publisher': 1, '건강을': 2, '위한': 2, '정직한': 2, '지식': 2, '홈': 1, '건강뉴스': 7, '헬스스낵': 1, '동영상': 1, '메뉴': 1, '이성주의': 1, '건강편지': 1, '엔도르핀발전소': 1, '오피니언': 1, '퀴즈': 1, '의학사전': 1, '오늘의': 1, '건강': 1, '베스트닥터': 1, '권순일': 2, '기자': 2, '입력': 1, '2018년': 1, '11월': 1, '15일': 1, '0745': 1, '사진Roman': 1, 'Samborskyishutterstock비이성적인': 1, '사고는': 1, '소통': 1, '판단': 1, '결정': 1, '등에': 1, '문제를': 1, '일으킨다': 1, '이와': 0, '관련해': 1, '8216허프포스트8217가': 1, '소통과': 1, '바른': 1, '판단을': 1, '방해하는': 1, '생각의': 3, '오류': 1, '7가지를': 1, '소개했다': 1, '1': 0, '이분법적': 1, '사고를': 1, '한다': 2, '흰색': 1, '아니면': 0, '검은색': 2, '양자택일의': 1, '결정을': 1, '내려야': 1, '할': 0, '때가': 0, '있다': 0, '하지만': 0, '양단간에': 1, '내린': 1, '결정은': 1, '위험한': 1, '측면이': 1, '옳고': 1, '그르다는': 1, '이분법은': 1, '다양한': 5, '가능성을': 3, '제한한다': 1, '흰색과': 1, '사이에': 1, '회색이': 1, '있다는': 2, '사실을': 1, '외면해서는': 1, '된다': 6, '2': 0, '상대방에게': 1, '낙인을': 1, '찍는다': 1, '하나의': 3, '단일': 1, '사건을': 1, '계기로': 1, '특정한': 1, '친구나': 1, '동료를': 1, '멍청이로': 1, '낙인찍는다면': 1, '이는': 1, '자신에게도': 1, '불이익이다': 1, '상대방의': 1, '장점을': 1, '인지하기': 1, '못하거나': 1, '무시하게': 1, '되기': 1, '때문에': 0, '좋은': 5, '인맥이': 1, '될': 2, '수도': 1, '있는': 4, '인연을': 1, '잃게': 1, '3': 0, '지나치게': 2, '일반화한다': 1, '특정': 2, '사례를': 1, '보편적인': 1, '것으로': 1, '단정': 1, '짓는': 1, '일반화도': 1, '흔히': 1, '저지르는': 1, '오류다': 1, '경험을': 1, '전체인': 1, '것': 0, '마냥': 1, '일반화하게': 1, '되면': 2, '도전을': 1, '시도하기도': 1, '전에': 1, '포기하게': 1, '대인': 1, '관계에': 1, '있어서도': 1, '마찬가지다': 1, '직업을': 1, '가진': 1, '무례한': 2, '행동을': 1, '보고': 1, '해당': 1, '집단의': 1, '사람들을': 1, '모두': 0, '사람으로': 1, '보게': 1, '사람과': 1, '관계를': 1, '맺을': 1, '수': 0, '기회를': 1, '놓치게': 1, '4': 0, '긍정적인': 1, '상황을': 6, '걸러낸다': 1, '9가지의': 1, '일이': 3, '생기고': 1, '한': 0, '가지의': 1, '나쁜': 4, '생겼음에도': 1, '불구하고': 0, '오직': 0, '일에만': 1, '신경을': 1, '곤두세우는': 1, '사람이': 2, '일에': 1, '대해': 0, '생각해보는': 1, '것도': 1, '중요하지만': 1, '부정적인': 1, '측면만': 1, '보다보면': 1, '균형적인': 1, '시각이': 1, '깨져': 1, '상황': 1, '판단이': 1, '흐려질': 1, '5': 0, '상대의': 1, '마음을': 1, '읽으려': 1, '다른': 0, '생각을': 2, '짐작할': 1, '판단은': 1, '착각일': 1, '경우가': 1, '많다': 1, '특히': 1, '8220저': 1, '사람은': 1, '날': 1, '우습게': 1, '알겠지8221와': 1, '같은': 0, '의기소침한': 1, '생각은': 1, '자신감을': 1, '저하시키는': 1, '원인이': 1, '되므로': 1, '속단하지': 1, '않는': 2, '것이': 1, '바람직하다': 1, '6': 0, '최악의': 2, '상상한다': 1, '자신이': 1, '실제로': 1, '겪고': 1, '상황보다': 1, '더욱': 1, '상황으로': 1, '상상의': 1, '나래를': 1, '펼치는': 1, '사람들이': 1, '가령': 0, '이번': 0, '달에': 1, '목표로': 1, '재정적': 1, '목표를': 1, '이루지': 1, '못했다면': 1, '8220난': 1, '파산하게': 1, '거야8221라거나': 1, '8220은퇴': 1, '후에': 1, '남는': 1, '돈이': 1, '없겠지8221와': 1, '하게': 1, '된다는': 1, '것이다': 1, '이처럼': 1, '생각하다보면': 1, '자신의': 1, '잠재적': 1, '제한하게': 1, '모든': 3, '자신과': 3, '연관시킨다': 1, '세상의': 1, '주인공이자': 1, '중심은': 1, '언제나': 1, '자기': 0, '자신이다': 1, '연관시키는': 1, '것은': 1, '현실': 1, '감각이': 1, '떨어지는': 1, '행동이다': 1, '친구가': 1, '오랫동안': 1, '연락이': 1, '없을': 1, '때': 0, '8220나한테': 1, '화난': 1, '게': 1, '분명해8221와': 1, '같이': 0, '연관': 1, '지어': 1, '결론을': 0, '내려서는': 1, '염두에': 1, '두는': 1, '태도가': 1, '필요하다': 1, 'kstt77kormedicom저작권ⓒ': 1, '코메디닷컴httpkormedicom': 1, '무단전재재배포': 1, '금지': 1, '이전': 2, '기사': 4, '운동': 3, '초보자에게': 1, '근력': 1, '다음': 0, '자살': 2, '유가족': 1, '인식': 1, '개선': 1, '직접': 1, '나선다': 1, '관련': 1, '유산소': 1, '나는': 1, '8216충분히8217': 1, '하고': 0, '있을까': 1, '위궤양': 1, '유방암8230성격': 1, '따라': 0, '많이': 1, '걸리는': 1, '질환': 1, '미래': 1, '식탁에': 1, '오를': 1, '곤충': 1, '먹을거리': 2, '8220강추위도': 1, '막지': 1, '못해82218230겨울': 1, '산행': 1, '잘하는': 1, '방법': 1, '새해': 1, '1세': 1, '미만': 2, '아동': 1, '무상': 1, '의료': 1, '추진82302025년까지': 1, '8세': 1, '무료': 1, '대형': 2, '병원': 1, '앞': 1, '약국': 1, '절반': 1, '가루약': 1, '조제': 1, '거부': 1, '인기': 1, '콘텐츠': 1, '항상': 1, '불행한': 1, '4가지': 2, '고혈압으로': 1, '죽지': 1, '방법8230가정': 1, '혈압복합제': 1, '8216백신': 1, '포비아8217': 1, '엄마의': 1, '눈물': 1, '8220딸이': 1, '자궁경부암에': 1, '걸렸다8221': 1, '더운': 1, '물': 1, '목욕이': 1, '건강에': 1, '7가지': 1, '이유': 1, '남성': 1, '갱년기8230중년': 1, '남성에게': 1, '술배': 1, '만드는': 1, '알코올': 1, '뱃살': 2, '덜': 1, '찌는': 1, '술은': 1, '추천': 1, '성관계': 1, '자주하는': 1, '일도': 1, '잘한다연구': 1, '여성은': 1, '성욕이': 1, '낮다': 1, '여성의': 1, '성에': 1, '대한': 1, '오해': 1, '10': 1, '면역력': 1, '올리고': 1, '빼고': 1, '일석이조의': 1, '생활습관': 1, '남자의': 1, '고환이': 1, '알려주는': 1, '건강신호': 1, '‘잠자리’도': 1, '나홀로': 1, '혼자하는': 1, '‘관계’에': 1, '중독된다': 1, '밤중에': 1, '잠': 1, '깰': 1, '때8230하면': 1, '되는': 0, '2가지': 1, '회사소개': 2, '광고문의': 2, '제휴문의': 2, '이용약관': 2, '청소년보호정책': 2, '이메일수집거부': 2, '개인정보취급방침': 2, '고객센터': 2, '사업자': 2, '등록번호': 4, '2148797051정기간행물': 1, '서울': 2, '아': 0, '00292호': 2, '등록연월일': 2, '20061130': 4, '제호': 2, '대표전화': 2, '02205282002': 2, '팩스': 2, '0220528203': 2, '서울시': 2, '종로구': 2, '율곡로': 2, '84가든타워': 2, '803호': 2, '발행일자': 2, '발행인': 2, '겸': 2, '편집인': 2, '이성주': 2, '청소년보호책임자': 2, '강양구': 2, '©': 3, 'KoreaMedicare': 2, 'All': 3, 'right': 0, 'reserved': 2, '2148797051': 1, '정기간행물': 1, '2018': 1, 'Rights': 1, 'Reserved': 1, '로그인': 2, 'Welcome': 1, 'Login': 1, 'to': 0, 'your': 0, 'account': 1, '비밀번호': 2, '분실': 1, 'Remember': 1, 'me': 0, '복구': 1, 'A': 1, 'password': 1, 'will': 0, 'be': 0, 'emailed': 1, 'you': 0}\n",
      "https://www.nytimes.com/2018/11/15/technology/zuckerberg-facebook-sandberg-tactics.html\n",
      "{'Mark': 2, 'Zuckerberg': 21, 'Defends': 3, 'Facebook': 19, 'as': 0, 'Furor': 4, 'Over': 4, 'Its': 3, 'Tactics': 4, 'Grows': 1, 'The': 4, 'New': 8, 'York': 8, 'Times': 4, 'SectionsSEARCHSkip': 1, 'to': 0, 'contentSkip': 1, 'site': 2, 'indexTechnologySubscribeLog': 1, 'InLog': 1, 'InToday’s': 1, 'PaperTechnologyMark': 1, 'GrowsSupported': 1, 'byMark': 1, 'GrowsImageMark': 1, 'fielded': 2, 'questions': 5, 'from': 0, 'reporters': 2, 'on': 0, 'Thursday': 7, 'about': 0, 'his': 0, 'and': 0, 'Sheryl': 2, 'Sandberg’s': 1, 'management': 1, 'of': 0, 'FacebookCreditCreditTom': 1, 'BrennerThe': 1, 'TimesBy': 1, 'Cecilia': 2, 'Kang': 3, 'Matthew': 3, 'Rosenberg': 3, 'Mike': 3, 'IsaacNov': 1, '15': 3, '2018WASHINGTON': 1, '—': 8, 'On': 1, 'Facebook’s': 10, 'chief': 3, 'executive': 1, 'chairman': 2, 'held': 1, 'a': 0, 'conference': 3, 'call': 4, 'with': 0, 'discuss': 1, 'how': 0, 'the': 0, 'social': 5, 'network': 3, 'manages': 1, 'problematic': 1, 'posts': 2, 'its': 0, 'community': 1, 'standardsThe': 1, 'quickly': 1, 'went': 0, 'sideways': 1, 'For': 1, 'more': 0, 'than': 0, 'an': 0, 'hour': 1, '34yearold': 1, 'billionaire': 1, 'instead': 1, 'he': 0, 'No': 2, '2': 0, 'Sandberg': 10, 'obfuscated': 1, 'problems': 0, 'such': 0, 'Russian': 5, 'interference': 5, 'company': 6, 'had': 0, 'gone': 1, 'attack': 3, 'against': 0, 'rivals': 1, 'critics': 2, 'In': 2, 'response': 1, 'Mr': 20, 'at': 0, 'times': 2, 'defiant': 1, 'conciliatory': 1, 'defended': 1, 'Ms': 10, 'own': 1, 'record“The': 1, 'reality': 1, 'running': 1, '10000': 1, 'people': 3, 'is': 0, 'that': 0, 'you’re': 1, 'not': 0, 'going': 0, 'know': 0, 'everything': 0, 'that’s': 2, 'on”': 1, 'said': 0, 'one': 0, 'pointYet': 1, 'even': 0, 'was': 0, 'making': 0, 'case': 0, 'furor': 1, 'gathering': 1, 'momentumIn': 1, 'Washington': 4, 'Republicans': 2, 'Democrats': 2, 'threatened': 1, 'restrain': 1, 'through': 0, 'competition': 1, 'laws': 1, 'open': 0, 'investigations': 2, 'into': 0, 'possible': 0, 'campaign': 4, 'finance': 2, 'violations': 2, 'Shareholders': 1, 'ramped': 1, 'up': 0, 'calls': 1, 'oust': 1, 'And': 3, 'activists': 1, 'filed': 3, 'complaint': 2, 'Federal': 2, 'Trade': 2, 'Commission': 2, 'network’s': 1, 'privacy': 2, 'policies': 1, 'condemned': 1, 'operating': 1, 'officer': 2, 'for': 0, 'overseeing': 1, 'secretly': 1, 'opponentsThe': 1, 'outcry': 1, 'followed': 1, 'article': 4, 'raised': 2, 'Wednesday': 3, 'tactics': 1, 'in': 0, 'dealing': 2, 'disinformation': 1, 'other': 0, 'well': 0, 'way': 0, 'it': 0, 'treats': 1, 'competitors': 2, 'opponents“Facebook': 1, 'cannot': 0, 'be': 0, 'trusted': 1, 'regulate': 1, 'itself”': 1, 'Representative': 1, 'David': 1, 'Cicilline': 1, 'Rhode': 1, 'Island': 1, 'top': 2, 'Democrat': 2, 'House': 1, 'antitrust': 1, 'subcommittee': 1, '“This': 2, 'staggering': 1, 'report': 2, 'makes': 1, 'clear': 0, 'executives': 3, 'will': 0, 'always': 0, 'put': 0, 'their': 0, 'massive': 1, 'profits': 1, 'ahead': 1, 'interests': 0, 'customers”The': 1, 'media': 1, 'giant': 1, 'has': 0, 'faced': 1, 'succession': 1, 'crises': 1, 'since': 0, '2016': 2, 'when': 0, 'accused': 1, 'influencing': 1, 'outcome': 1, 'American': 1, 'presidential': 1, 'election': 1, 'favor': 1, 'Donald': 1, 'J': 1, 'Trump': 1, 'acknowledged': 3, 'platform': 2, 'critical': 3, 'conduit': 1, 'grappled': 1, 'leaks': 1, 'customer': 1, 'data': 1, 'British': 2, 'political': 1, 'consulting': 1, 'firm': 2, 'Cambridge': 1, 'AnalyticaBut': 1, 'while': 0, 'previous': 2, 'scrutiny': 1, 'largely': 0, 'focused': 3, 'business': 3, 'model': 1, 'promotes': 1, 'viral': 1, 'ads': 1, 'latest': 0, 'fallout': 1, 'directed': 1, 'specifically': 1, 'SandbergThe': 1, 'described': 1, 'passed': 1, 'off': 0, 'many': 0, 'security': 1, 'policy': 1, 'decisions': 1, 'recent': 2, 'years': 0, 'delayed': 1, 'responses': 1, 'abuse': 1, 'or': 0, 'played': 1, 'down': 0, 'significance': 1, 'More': 1, 'recently': 1, 'employing': 1, 'companies': 1, 'divert': 1, 'attention': 1, 'opposition': 3, 'research': 3, 'Definers': 5, 'Public': 3, 'Affairs': 2, 'worked': 0, 'discredit': 2, 'protesters': 1, 'by': 0, 'trying': 1, 'link': 1, 'them': 0, 'George': 2, 'Soros': 2, 'liberal': 1, 'financierThat': 1, 'accountability': 1, 'exercises': 1, 'near': 1, 'total': 1, 'control': 1, 'because': 0, 'owns': 2, '60': 1, 'percent': 1, 'voting': 1, 'shares': 2, 'head': 1, 'board': 5, 'handpicked': 1, '2On': 1, 'supported': 1, 'While': 1, 'two': 0, 'responded': 1, 'slowly': 1, 'directors': 1, 'pushed': 1, 'act': 1, 'faster': 1, 'statement': 2, '“to': 1, 'suggest': 2, 'they': 0, 'knew': 0, 'either': 0, 'tried': 1, 'ignore': 1, 'prevent': 1, 'what': 0, 'happened': 1, 'grossly': 1, 'unfair”In': 1, 'echoed': 1, 'similar': 1, 'sentiments': 1, '“To': 1, 'we': 0, 'weren’t': 1, 'interested': 0, 'knowing': 1, 'truth': 1, 'hide': 1, 'simply': 1, 'untrue”': 1, '“We’re': 1, 'much': 0, 'stronger': 1, 'place': 0, 'today': 0, 'were': 0, '2016”Still': 1, 'missteps': 1, 'including': 1, 'use': 0, 'terminated': 1, 'relationship': 1, 'late': 2, 'after': 0, 'learned': 1, 'some': 0, 'firm’s': 1, 'tactics“In': 1, 'general': 0, 'need': 0, 'go': 0, 'all': 0, 'our': 0, 'relationships': 2, 'evaluate': 1, 'might': 0, 'typical': 1, 'DC': 1, 'decide': 1, 'if': 0, 'want': 0, 'continue': 1, 'them”': 1, 'saidHe': 1, 'declined': 1, 'answer': 1, 'personnel': 1, 'changes': 1, 'but': 0, '“doing': 1, 'great': 0, 'work': 0, 'company”In': 1, 'allegations': 1, 'she': 0, 'stood': 1, 'fixing': 1, 'platform’s': 1, '“are': 1, 'also': 0, 'just': 0, 'plain': 1, 'wrong”': 1, 'She': 1, 'distanced': 1, 'herself': 0, 'expressed': 1, 'support': 1, 'Soros“I': 1, 'did': 0, 'hired': 1, 'doing': 2, 'I': 2, 'should': 0, 'have”': 1, 'wrote': 1, '“I': 1, 'have': 0, 'respect': 1, 'antiSemitic': 1, 'conspiracy': 2, 'theories': 2, 'him': 0, 'are': 0, 'abhorrent”Shareholders': 1, 'concerned': 2, 'Zuckerberg’s': 3, 'concentration': 1, 'power': 2, 'Last': 1, 'month': 1, 'several': 0, 'shareholders': 3, 'joint': 1, 'resolution': 1, 'remove': 1, 'chairmanOn': 1, 'those': 0, 'Scott': 1, 'M': 1, 'Stringer': 2, 'comptroller': 1, 'City': 2, 'who': 0, 'administers': 1, 'city’s': 1, 'public': 2, 'pension': 2, 'fund': 2, 'grip': 1, 'over': 0, 'protected': 1, 'being': 0, 'answerable': 1, 'company’s': 2, 'mistakes“Renegade': 1, 'only': 0, 'growth': 2, 'regardless': 1, 'risks': 1, 'withhold': 1, 'information': 1, 'democracy': 1, 'jeopardy”': 1, '45': 1, 'million': 1, 'FacebookMr': 1, 'willing': 1, 'step': 1, 'chairman“I': 1, 'don’t': 1, 'particularly': 1, 'think': 0, 'specific': 1, 'proposal': 1, 'right': 0, 'go”': 1, '“But': 1, 'am': 1, 'quite': 0, 'ways': 0, 'get': 0, 'independence': 1, 'around': 0, 'systems': 1, 'different': 0, 'ways”Mr': 1, 'may': 0, 'trouble': 1, 'hands': 1, 'which': 0, 'grown': 1, 'tremendously': 1, 'slowdown': 1, 'advertisers': 1, 'lifeblood': 1, '40': 1, 'billion': 1, 'increasingly': 1, 'criticizing': 1, 'tactics“Up': 1, 'now': 0, 'whatever': 1, 'you': 0, 'couldn’t': 1, 'say': 0, 'twofaced': 1, 'company”': 1, 'Rishad': 1, 'Tobaccowala': 2, 'Publicis': 1, 'Groupe': 1, 'world’s': 1, 'biggest': 1, 'advertising': 1, 'groupsBut': 1, '“it': 1, 'says': 0, 'thing': 0, 'does': 0, 'something': 0, 'completely': 1, 'different”': 1, 'very': 0, 'hard': 1, 'marketer”In': 1, 'alike': 1, 'blasted': 2, 'Senator': 1, 'Rand': 1, 'Paul': 1, 'Republican': 1, 'Kentucky': 1, 'interview': 2, 'CNN': 1, '“monopoly”Senator': 1, 'Amy': 1, 'Klobuchar': 1, 'Minnesota': 1, 'hearing': 1, 'Capitol': 1, 'Hill': 1, 'planned': 1, 'ask': 0, 'Justice': 1, 'Department': 1, 'investigate': 2, 'whether': 0, 'hiring': 2, 'firms': 1, 'influence': 1, 'politicians': 1, 'violated': 1, 'rulesA': 1, 'coalition': 1, 'called': 2, 'Freedom': 1, 'From': 1, 'represents': 1, 'interest': 0, 'groups': 0, 'like': 0, 'Demand': 1, 'Progress': 1, 'Citizen': 1, 'users’': 1, 'Color': 2, 'Change': 1, 'civilrights': 1, 'group': 0, 'been': 0, 'group“Facebook': 1, 'violating': 1, 'most': 0, 'fundamental': 1, 'mission': 1, 'building': 1, 'human': 1, 'connection': 1, 'trust': 1, 'placed': 1, 'billions': 1, 'advancing': 1, 'extremist': 1, 'farright': 1, 'aimed': 1, 'denigrating': 1, 'Jews': 1, 'belittling': 1, 'color”': 1, 'Rashad': 1, 'Robinson': 1, 'president': 1, 'ChangeLawmakers': 1, 'five': 1, 'countries': 1, 'Britain': 1, 'Canada': 1, 'Argentina': 1, 'Ireland': 1, 'Australia': 1, 'testify': 1, 'session': 1, 'calling': 1, '“grand': 1, 'committee”': 1, 'London': 1, 'Nov': 1, '27': 1, 'previously': 1, 'turned': 0, 'invitationDamian': 1, 'Collins': 2, 'lawmaker': 1, 'leading': 1, 'effort': 1, 'Times’s': 1, 'appeared': 1, 'contradict': 1, 'statements': 1, 'regulators': 1, 'knowledge': 1, 'Russia’s': 1, 'site“People': 1, 'aware': 1, 'Russians': 1, 'sought': 1, 'keep': 0, 'themselves': 1, 'commercial': 1, 'reasons': 1, 'betrayal': 1, 'trust”': 1, '“They': 1, 'fully': 0, 'account': 1, 'activity': 1, 'why': 0, 'authorities': 1, 'sooner”Follow': 1, 'Isaac': 2, 'Twitter': 1, 'ceciliakang': 1, 'AllMattNYT': 1, 'MikeIsaacCecilia': 1, 'reported': 1, 'San': 1, 'Francisco': 1, 'Sheera': 1, 'Frenkel': 1, 'contributed': 1, 'reporting': 1, 'Los': 1, 'Angeles': 1, 'Sapna': 1, 'Maheshwari': 1, 'Nick': 1, 'Confessore': 1, 'A': 1, 'version': 1, 'this': 0, 'appears': 1, 'print': 1, 'Page': 2, 'B1': 1, 'edition': 1, 'headline': 1, 'Defense': 1, 'Amid': 1, 'Order': 1, 'Reprints': 1, 'Today’s': 1, 'Paper': 1, 'SubscribeRelated': 1, 'Coverage‘I': 1, 'Don’t': 1, 'Really': 1, 'Want': 1, 'Work': 1, 'Facebook’': 1, 'So': 1, 'Say': 1, 'Some': 1, 'Computer': 1, 'Science': 1, 'StudentsNov': 1, '2018ImageFacebook': 1, 'Cuts': 1, 'Ties': 1, 'With': 1, 'Firm': 1, 'That': 1, 'Sought': 1, 'Discredit': 1, 'Social': 1, 'Network’s': 1, 'CriticsNov': 1, '2018ImageDelay': 1, 'Deny': 1, 'Deflect': 1, 'How': 1, 'Leaders': 1, 'Fought': 1, 'Through': 1, 'CrisisNov': 1, '14': 1, '2018ImageAdvertisementSite': 1, 'IndexGo': 1, 'Home': 1, '»newshome': 1, 'pageworldUSpoliticsNew': 2, 'Yorkbusinesstechscienceclimatesportsobituariesthe': 2, 'upshottodayx27s': 2, 'papercorrectionsopiniontodayx27s': 2, 'opinionoped': 2, 'columnistseditorialsoped': 2, 'Contributorsletterssunday': 2, 'reviewvideo': 2, 'opinionartstodayx27s': 2, 'artsart': 2, 'amp': 5, 'designbooksdancemoviesmusictelevisiontheaterwatchingvideo': 2, 'artslivingautomobilescrosswordfoodCookingeducationstylehealthjobsmagazinereal': 2, 'estatet': 2, 'magazinetravelweddingslistings': 1, 'moreReader': 1, 'CenterWirecutterThe': 2, 'Learning': 2, 'Networktools': 2, 'servicesNYC': 2, 'events': 2, 'guidemultimediaphotographyvideoNYT': 2, 'storetimes': 2, 'journeysmanage': 2, 'my': 0, 'accountnewshome': 1, 'magazinetravelweddingsmoreReader': 1, 'accountSubscribehome': 1, 'deliverydigital': 1, 'subscriptionsCrosswordCookingemail': 1, 'newsletterscorporate': 1, 'subscriptionseducation': 1, 'ratemobile': 1, 'applicationsreplica': 1, 'editionSite': 1, 'Information': 1, 'Navigation©': 1, '2018': 1, 'CompanyContact': 1, 'UsWork': 1, 'usAdvertiseYour': 1, 'Ad': 1, 'ChoicesPrivacyTerms': 1, 'ServiceTerms': 1, 'SaleSite': 1, 'MapHelpHelpSubscriptions': 1}\n"
     ]
    }
   ],
   "source": [
    "w1.getWordsFrequency2()"
   ]
  },
  {
   "cell_type": "code",
   "execution_count": 34,
   "metadata": {
    "scrolled": true
   },
   "outputs": [
    {
     "name": "stdout",
     "output_type": "stream",
     "text": [
      "https://cse.koreatech.ac.kr/\n",
      "['20181207']\n",
      "\n",
      "https://post.naver.com/viewer/postView.nhn?volumeNo=17087591&memberNo=4444311\n",
      "['네이버', '포스트']\n",
      "\n",
      "http://www.etnews.com/20181115000026?mc=ns_005_00004\n",
      "['전자신문', '차량이']\n",
      "\n",
      "http://kormedi.com/1255552/%EB%A7%90-%EC%95%88-%ED%86%B5%ED%95%98%EB%8A%94-%EC%82%AC%EB%9E%8C%EC%9D%98-%ED%8A%B9%EC%A7%95-7/\n",
      "['건강뉴스']\n",
      "\n",
      "https://www.nytimes.com/2018/11/15/technology/zuckerberg-facebook-sandberg-tactics.html\n",
      "['Zuckerberg']\n",
      "\n"
     ]
    }
   ],
   "source": [
    "w1.getMaxFreqency()"
   ]
  },
  {
   "cell_type": "code",
   "execution_count": 35,
   "metadata": {},
   "outputs": [],
   "source": [
    "class SearchEngineWithOrderedWebWords(SearchEngine):\n",
    "    #def __iter__(self):\n",
    "    #    return self\n",
    "    \n",
    "    #def next(self):\n",
    "    #    if not self:\n",
    "    #        raise StopIteration\n",
    "    #    for x in self:\n",
    "    #        print(x)\n",
    "    #        for y in self.orderingwords[x]:\n",
    "    #            return y\n",
    "    #        print()\n",
    "            \n",
    "            \n",
    "    @staticmethod #self가 필요 없고 클래스의 모든 객체에서 동일한 메소드이기 때문에\n",
    "    def cmp_by_each_element(a):\n",
    "        return a[1] #단어의 빈출수가 ulsPureWords[x]의 value값 이기 때문에\n",
    "\n",
    "    def getWordsFrequency2(self,reverse = False):\n",
    "        self.getWordsEachUrlFreqency()\n",
    "        self.orderingwords= {} # 키 값 : url, value : (단어, 빈도수)에서 빈도수를 기준으로 정렬된 리스트\n",
    "        for x in self:\n",
    "            self.orderingwords[x] = list(self.urlsPureWords[x].items())\n",
    "            self.orderingwords[x].sort(key=SearchEngineWithOrderedWebWords.cmp_by_each_element) #(단어, 빈도수)에서 빈도수를 기준으로 오름차순\n",
    "            if(not reverse):\n",
    "                self.orderingwords[x].reverse()  #빈도수를 기준으로 오름차순 되어있는 리스트를 반전시킴 \n",
    "            print(x)\n",
    "            print(self.orderingwords[x])\n",
    "            print()\n"
   ]
  },
  {
   "cell_type": "code",
   "execution_count": 36,
   "metadata": {
    "scrolled": true
   },
   "outputs": [
    {
     "name": "stdout",
     "output_type": "stream",
     "text": [
      "https://cse.koreatech.ac.kr/\n",
      "[('20181207', 9), ('컴퓨터공학부', 8), ('20181208', 7), ('한국기술교육대학교', 5), ('IT', 5), ('1038', 4), ('스타트업', 4), ('로그인', 4), ('학회장', 3), ('★', 3), ('20181129', 3), ('모집', 3), ('특성화', 3), ('온라인', 3), ('교육역량강화사업', 3), ('인력양성사업', 3), ('융합소프트웨어', 3), ('글로벌', 3), ('560', 2), ('041', 2), ('충절로', 2), ('병천면', 2), ('동남구', 2), ('천안시', 2), ('충청남도', 2), ('0722', 2), ('0833', 2), ('0947', 2), ('1049', 2), ('IPO', 2), ('1514', 2), ('1109', 2), ('1445', 2), ('2043', 2), ('1005', 2), ('1009', 2), ('1128', 2), ('1413', 2), ('12월', 2), ('2148', 2), ('1428', 2), ('1441', 2), ('1451', 2), ('20181112', 2), ('0906', 2), ('0933', 2), ('2014', 2), ('0130', 2), ('2001', 2), ('부학회장', 2), ('2019', 2), ('2259', 2), ('1842', 2), ('공고', 2), ('1635', 2), ('공지', 2), ('결과', 2), ('1743', 2), ('1127', 2), ('1248', 2), ('20181205', 2), ('안내', 2), ('1353', 2), ('신청', 2), ('20182학기', 2), ('바로가기', 2), ('컨텐츠', 2), ('자료실', 2), ('대학원', 2), ('교육의', 2), ('유지', 2), ('reserved', 1), ('rights', 1), ('All', 1), ('2015', 1), ('©', 1), ('Copyright', 1), ('가전리', 1), ('1600', 1), ('31253', 1), ('Facebook', 1), ('1462', 1), ('FAX', 1), ('1461', 1), ('1460', 1), ('TEL', 1), ('학과사무실', 1), ('1600한국기술교육대학교', 1), ('CSE', 1), ('Contact', 1), ('Location', 1), ('Campus', 1), ('업무', 1), ('교직원', 1), ('평생교육원', 1), ('WEBMAIL', 1), ('홈페이지', 1), ('Navigation', 1), ('Quick', 1), ('wind', 1), ('Martian', 1), ('sounds', 1), ('soothing', 1), ('Listen', 1), ('Carol', 1), ('North', 1), ('employees', 1), ('269', 1), ('lays', 1), ('Qualcomm', 1), ('prepping', 1), ('Slack', 1), ('Report', 1), ('confidentially', 1), ('files', 1), ('Uber', 1), ('approach', 1), ('cautious', 1), ('abandons', 1), ('Coinbase', 1), ('TechCrunch', 1), ('이용자', 1), ('돌파“주', 1), ('12만', 1), ('다운로드', 1), ('U아이돌Live', 1), ('발간', 1), ('백서', 1), ('선거방송', 1), ('케이블TV', 1), ('KCTA', 1), ('탑재', 1), ('이누야샤', 1), ('모바일게임', 1), ('OTT박스에', 1), ('딜라이브', 1), ('연말', 1), ('뒤안길로KT·SK텔레콤', 1), ('역사의', 1), ('와이브로', 1), ('3···투자활', 1), ('최대', 1), ('세액공제', 1), ('투자에', 1), ('5G', 1), ('내년부터', 1), ('전자신문', 1), ('성료', 1), ('DEMODAY’', 1), ('GHUB', 1), ('‘2018', 1), ('경기문화창조허브', 1), ('동향하이퍼커넥트네오', 1), ('비즈니스', 1), ('7일', 1), ('참가자', 1), ('4기', 1), ('OZ', 1), ('스타트업캠퍼스', 1), ('이벤트12101216', 1), ('주', 1), ('둘째', 1), ('생긴다', 1), ('사회주택', 1), ('입주', 1), ('종사자', 1), ('대치동에', 1), ('Platum', 1), ('20181107', 1), ('20181118', 1), ('채용', 1), ('7기', 1), ('공채', 1), ('신입', 1), ('GROUP', 1), ('ITCEN', 1), ('11', 1), ('청주', 1), ('개발', 1), ('콘텐츠', 1), ('시스템', 1), ('증감현실', 1), ('플링크', 1), ('16일', 1), ('11월', 1), ('담당자', 1), ('교육운영관리', 1), ('교육사업부', 1), ('비트컴퓨터', 1), ('알고리즘', 1), ('검사', 1), ('프로그램', 1), ('장비제어', 1), ('영우DSP', 1), ('판교', 1), ('20181204', 1), ('네트', 1), ('마그나파워트레인코리아주외국계IT', 1), ('아산', 1), ('취업게시판', 1), ('20181120', 1), ('등록', 1), ('후보자', 1), ('10대', 1), ('●제', 1), ('20181128', 1), ('부', 1), ('ampamp', 1), ('종강총회', 1), ('2학기', 1), ('2018년', 1), ('개표', 1), ('20181201', 1), ('조사', 1), ('구매자', 1), ('졸업앨범', 1), ('20181202', 1), ('부원', 1), ('학생회', 1), ('공학부', 1), ('컴퓨터', 1), ('▶10대', 1), ('자유게시판', 1), ('최종', 1), ('경진대회', 1), ('아이디어', 1), ('IT융합', 1), ('2018', 1), ('20181130', 1), ('사업설명', 1), ('교과과정', 1), ('관련', 1), ('산업혁명', 1), ('LINC사업단4차', 1), ('장학', 1), ('신문고', 1), ('장학생', 1), ('근로', 1), ('사업단', 1), ('2018동계방학', 1), ('장학금', 1), ('성적우수역량강화', 1), ('공지사항', 1), ('소개합니다', 1), ('컨텐츠를', 1), ('고취', 1), ('경쟁력', 1), ('국제적인', 1), ('대한', 1), ('IT융합분야에', 1), ('양성', 1), ('IT전문인력', 1), ('수준의', 1), ('것을환영합니다', 1), ('오신', 1), ('홈페이지에', 1), ('메카', 1), ('Empowerment', 1), ('Capability', 1), ('Education', 1), ('Contents', 1), ('Online', 1), ('KoreaI', 1), ('Creative', 1), ('CK', 1), ('Engineering', 1), ('Science', 1), ('Computer', 1), ('School', 1), ('Registration', 1), ('학부서비스', 1), ('공학교육인증', 1), ('학부광장', 1), ('학부', 1), ('입학', 1), ('학사안내', 1), ('구성원소개', 1), ('소개', 1), ('Close', 1), ('메카한국기술교육대학교', 1), ('찾기', 1), ('IDPW', 1), ('회원가입', 1), ('해주세요', 1), ('로그아웃을', 1), ('꼭', 1), ('있으니', 1), ('유출될', 1), ('개인정보가', 1), ('시', 1), ('이용', 1), ('공공장소에서', 1), ('학교', 1), ('게임방', 1), ('단', 1), ('없습니다', 1), ('필요가', 1), ('로그인할', 1), ('접속부터는', 1), ('경우', 1), ('사용할', 1), ('기능을', 1), ('있습니다', 1), ('유지될', 1), ('계속', 1), ('로그인이', 1), ('닫더라도', 1), ('브라우저를', 1), ('비밀번호', 1), ('아이디', 1), ('Fun', 1), ('Study', 1), ('Schoolfun', 1), ('the', 0), ('to', 0), ('in', 0), ('off', 0), ('year', 0), ('next', 0), ('an', 0), ('is', 0), ('p', 0), ('with', 0), ('its', 0), ('우선', 0), ('및', 0), ('for', 0), ('of', 0), ('등', 0), ('다음', 0), ('수', 0), ('and', 0)]\n",
      "\n",
      "https://post.naver.com/viewer/postView.nhn?volumeNo=17087591&memberNo=4444311\n",
      "[('포스트', 3), ('네이버', 3), ('보기', 2), ('공유하기', 2), ('가기', 2), ('이전화면으로', 2), ('초현실주의', 2), ('덧글', 1), ('보러가기', 1), ('사람', 1), ('좋아요', 1), ('자세히보기', 1), ('글입니다', 1), ('쓴', 1), ('예쁜사진', 1), ('월드뉴스', 1), ('해외토픽', 1), ('이슈', 1), ('뉴스판', 1), ('뉴스', 1), ('사진작가', 1), ('초현실주의예술', 1), ('초현실주의사진', 1), ('신고', 1), ('앱으로', 1), ('북마크', 1), ('복사', 1), ('URL', 1), ('작성자', 1), ('크게', 1), ('기본', 1), ('쓰기', 1), ('팔로잉', 1), ('시리즈팔로우', 1), ('beta', 1), ('바로가기', 1), ('본문', 1), ('아티스트', 1), ('스타', 1), ('19세', 1), ('사로잡은', 1), ('명을', 1), ('14만', 1), ('사진으로', 1), ('한', 0), ('으로', 0)]\n",
      "\n"
     ]
    }
   ],
   "source": [
    "SearchEngine.registerStopWords()\n",
    "w4 = SearchEngineWithOrderedWebWords('https://cse.koreatech.ac.kr/','https://post.naver.com/viewer/postView.nhn?volumeNo=17087591&memberNo=4444311')\n",
    "w4.getWordsFrequency2()"
   ]
  },
  {
   "cell_type": "code",
   "execution_count": 37,
   "metadata": {
    "scrolled": true
   },
   "outputs": [
    {
     "name": "stdout",
     "output_type": "stream",
     "text": [
      "https://cse.koreatech.ac.kr/\n",
      "[('and', 0), ('수', 0), ('다음', 0), ('등', 0), ('of', 0), ('for', 0), ('및', 0), ('우선', 0), ('its', 0), ('with', 0), ('p', 0), ('is', 0), ('an', 0), ('next', 0), ('year', 0), ('off', 0), ('in', 0), ('to', 0), ('the', 0), ('Schoolfun', 1), ('Study', 1), ('Fun', 1), ('아이디', 1), ('비밀번호', 1), ('브라우저를', 1), ('닫더라도', 1), ('로그인이', 1), ('계속', 1), ('유지될', 1), ('있습니다', 1), ('기능을', 1), ('사용할', 1), ('경우', 1), ('접속부터는', 1), ('로그인할', 1), ('필요가', 1), ('없습니다', 1), ('단', 1), ('게임방', 1), ('학교', 1), ('공공장소에서', 1), ('이용', 1), ('시', 1), ('개인정보가', 1), ('유출될', 1), ('있으니', 1), ('꼭', 1), ('로그아웃을', 1), ('해주세요', 1), ('회원가입', 1), ('IDPW', 1), ('찾기', 1), ('메카한국기술교육대학교', 1), ('Close', 1), ('소개', 1), ('구성원소개', 1), ('학사안내', 1), ('입학', 1), ('학부', 1), ('학부광장', 1), ('공학교육인증', 1), ('학부서비스', 1), ('Registration', 1), ('School', 1), ('Computer', 1), ('Science', 1), ('Engineering', 1), ('CK', 1), ('Creative', 1), ('KoreaI', 1), ('Online', 1), ('Contents', 1), ('Education', 1), ('Capability', 1), ('Empowerment', 1), ('메카', 1), ('홈페이지에', 1), ('오신', 1), ('것을환영합니다', 1), ('수준의', 1), ('IT전문인력', 1), ('양성', 1), ('IT융합분야에', 1), ('대한', 1), ('국제적인', 1), ('경쟁력', 1), ('고취', 1), ('컨텐츠를', 1), ('소개합니다', 1), ('공지사항', 1), ('성적우수역량강화', 1), ('장학금', 1), ('2018동계방학', 1), ('사업단', 1), ('근로', 1), ('장학생', 1), ('신문고', 1), ('장학', 1), ('LINC사업단4차', 1), ('산업혁명', 1), ('관련', 1), ('교과과정', 1), ('사업설명', 1), ('20181130', 1), ('2018', 1), ('IT융합', 1), ('아이디어', 1), ('경진대회', 1), ('최종', 1), ('자유게시판', 1), ('▶10대', 1), ('컴퓨터', 1), ('공학부', 1), ('학생회', 1), ('부원', 1), ('20181202', 1), ('졸업앨범', 1), ('구매자', 1), ('조사', 1), ('20181201', 1), ('개표', 1), ('2018년', 1), ('2학기', 1), ('종강총회', 1), ('ampamp', 1), ('부', 1), ('20181128', 1), ('●제', 1), ('10대', 1), ('후보자', 1), ('등록', 1), ('20181120', 1), ('취업게시판', 1), ('아산', 1), ('마그나파워트레인코리아주외국계IT', 1), ('네트', 1), ('20181204', 1), ('판교', 1), ('영우DSP', 1), ('장비제어', 1), ('프로그램', 1), ('검사', 1), ('알고리즘', 1), ('비트컴퓨터', 1), ('교육사업부', 1), ('교육운영관리', 1), ('담당자', 1), ('11월', 1), ('16일', 1), ('플링크', 1), ('증감현실', 1), ('시스템', 1), ('콘텐츠', 1), ('개발', 1), ('청주', 1), ('11', 1), ('ITCEN', 1), ('GROUP', 1), ('신입', 1), ('공채', 1), ('7기', 1), ('채용', 1), ('20181118', 1), ('20181107', 1), ('Platum', 1), ('대치동에', 1), ('종사자', 1), ('입주', 1), ('사회주택', 1), ('생긴다', 1), ('둘째', 1), ('주', 1), ('이벤트12101216', 1), ('스타트업캠퍼스', 1), ('OZ', 1), ('4기', 1), ('참가자', 1), ('7일', 1), ('비즈니스', 1), ('동향하이퍼커넥트네오', 1), ('경기문화창조허브', 1), ('‘2018', 1), ('GHUB', 1), ('DEMODAY’', 1), ('성료', 1), ('전자신문', 1), ('내년부터', 1), ('5G', 1), ('투자에', 1), ('세액공제', 1), ('최대', 1), ('3···투자활', 1), ('와이브로', 1), ('역사의', 1), ('뒤안길로KT·SK텔레콤', 1), ('연말', 1), ('딜라이브', 1), ('OTT박스에', 1), ('모바일게임', 1), ('이누야샤', 1), ('탑재', 1), ('KCTA', 1), ('케이블TV', 1), ('선거방송', 1), ('백서', 1), ('발간', 1), ('U아이돌Live', 1), ('다운로드', 1), ('12만', 1), ('돌파“주', 1), ('이용자', 1), ('TechCrunch', 1), ('Coinbase', 1), ('abandons', 1), ('cautious', 1), ('approach', 1), ('Uber', 1), ('files', 1), ('confidentially', 1), ('Report', 1), ('Slack', 1), ('prepping', 1), ('Qualcomm', 1), ('lays', 1), ('269', 1), ('employees', 1), ('North', 1), ('Carol', 1), ('Listen', 1), ('soothing', 1), ('sounds', 1), ('Martian', 1), ('wind', 1), ('Quick', 1), ('Navigation', 1), ('홈페이지', 1), ('WEBMAIL', 1), ('평생교육원', 1), ('교직원', 1), ('업무', 1), ('Campus', 1), ('Location', 1), ('Contact', 1), ('CSE', 1), ('1600한국기술교육대학교', 1), ('학과사무실', 1), ('TEL', 1), ('1460', 1), ('1461', 1), ('FAX', 1), ('1462', 1), ('Facebook', 1), ('31253', 1), ('1600', 1), ('가전리', 1), ('Copyright', 1), ('©', 1), ('2015', 1), ('All', 1), ('rights', 1), ('reserved', 1), ('유지', 2), ('교육의', 2), ('대학원', 2), ('자료실', 2), ('컨텐츠', 2), ('바로가기', 2), ('20182학기', 2), ('신청', 2), ('1353', 2), ('안내', 2), ('20181205', 2), ('1248', 2), ('1127', 2), ('1743', 2), ('결과', 2), ('공지', 2), ('1635', 2), ('공고', 2), ('1842', 2), ('2259', 2), ('2019', 2), ('부학회장', 2), ('2001', 2), ('0130', 2), ('2014', 2), ('0933', 2), ('0906', 2), ('20181112', 2), ('1451', 2), ('1441', 2), ('1428', 2), ('2148', 2), ('12월', 2), ('1413', 2), ('1128', 2), ('1009', 2), ('1005', 2), ('2043', 2), ('1445', 2), ('1109', 2), ('1514', 2), ('IPO', 2), ('1049', 2), ('0947', 2), ('0833', 2), ('0722', 2), ('충청남도', 2), ('천안시', 2), ('동남구', 2), ('병천면', 2), ('충절로', 2), ('041', 2), ('560', 2), ('글로벌', 3), ('융합소프트웨어', 3), ('인력양성사업', 3), ('교육역량강화사업', 3), ('온라인', 3), ('특성화', 3), ('모집', 3), ('20181129', 3), ('★', 3), ('학회장', 3), ('로그인', 4), ('스타트업', 4), ('1038', 4), ('IT', 5), ('한국기술교육대학교', 5), ('20181208', 7), ('컴퓨터공학부', 8), ('20181207', 9)]\n",
      "\n",
      "https://post.naver.com/viewer/postView.nhn?volumeNo=17087591&memberNo=4444311\n",
      "[('으로', 0), ('한', 0), ('사진으로', 1), ('14만', 1), ('명을', 1), ('사로잡은', 1), ('19세', 1), ('스타', 1), ('아티스트', 1), ('본문', 1), ('바로가기', 1), ('beta', 1), ('시리즈팔로우', 1), ('팔로잉', 1), ('쓰기', 1), ('기본', 1), ('크게', 1), ('작성자', 1), ('URL', 1), ('복사', 1), ('북마크', 1), ('앱으로', 1), ('신고', 1), ('초현실주의사진', 1), ('초현실주의예술', 1), ('사진작가', 1), ('뉴스', 1), ('뉴스판', 1), ('이슈', 1), ('해외토픽', 1), ('월드뉴스', 1), ('예쁜사진', 1), ('쓴', 1), ('글입니다', 1), ('자세히보기', 1), ('좋아요', 1), ('사람', 1), ('보러가기', 1), ('덧글', 1), ('초현실주의', 2), ('이전화면으로', 2), ('가기', 2), ('공유하기', 2), ('보기', 2), ('네이버', 3), ('포스트', 3)]\n",
      "\n"
     ]
    }
   ],
   "source": [
    "w4.getWordsFrequency2(reverse = True)"
   ]
  },
  {
   "cell_type": "markdown",
   "metadata": {},
   "source": [
    "### 반복자를 변경하면 클래스 안에 있는 for문도 같이 바뀌어서 오류가 납니다."
   ]
  },
  {
   "cell_type": "code",
   "execution_count": 17,
   "metadata": {},
   "outputs": [
    {
     "name": "stdout",
     "output_type": "stream",
     "text": [
      "https://cse.koreatech.ac.kr/\n",
      "https://post.naver.com/viewer/postView.nhn?volumeNo=17087591&memberNo=4444311\n"
     ]
    }
   ],
   "source": [
    "for i in w4:\n",
    "    print(i)"
   ]
  }
 ],
 "metadata": {
  "kernelspec": {
   "display_name": "Python 3",
   "language": "python",
   "name": "python3"
  },
  "language_info": {
   "codemirror_mode": {
    "name": "ipython",
    "version": 3
   },
   "file_extension": ".py",
   "mimetype": "text/x-python",
   "name": "python",
   "nbconvert_exporter": "python",
   "pygments_lexer": "ipython3",
   "version": "3.6.5"
  }
 },
 "nbformat": 4,
 "nbformat_minor": 2
}
