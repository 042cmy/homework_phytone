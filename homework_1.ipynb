{
 "cells": [
  {
   "cell_type": "code",
   "execution_count": 4,
   "metadata": {},
   "outputs": [
    {
     "name": "stdout",
     "output_type": "stream",
     "text": [
      "Python Hello\n"
     ]
    }
   ],
   "source": [
    "a = \"Hello Python\"\n",
    "a = a[6:] + a[5] + a[0:5]\n",
    "print (a)"
   ]
  },
  {
   "cell_type": "code",
   "execution_count": 6,
   "metadata": {
    "scrolled": false
   },
   "outputs": [
    {
     "name": "stdout",
     "output_type": "stream",
     "text": [
      "World Python Hello\n"
     ]
    }
   ],
   "source": [
    "b = \"Hello Python World\"\n",
    "b = b[13:] + b[12] + b[6:12] + b[5] + b[:5]\n",
    "print(b)"
   ]
  },
  {
   "cell_type": "code",
   "execution_count": 7,
   "metadata": {},
   "outputs": [
    {
     "name": "stdout",
     "output_type": "stream",
     "text": [
      "olleH\n"
     ]
    }
   ],
   "source": [
    "c= \"Hello\"\n",
    "c = c[::-1]\n",
    "print(c)"
   ]
  },
  {
   "cell_type": "code",
   "execution_count": 12,
   "metadata": {},
   "outputs": [
    {
     "name": "stdout",
     "output_type": "stream",
     "text": [
      "p\n",
      "p\n",
      "p\n",
      "p\n"
     ]
    }
   ],
   "source": [
    "s = \"python\"\n",
    "print(s[0])\n",
    "print(s[0][0])\n",
    "print(s[0][0])"
   ]
  },
  {
   "cell_type": "markdown",
   "metadata": {},
   "source": [
    "s[0] : 객체 s의 indexing이 0인 곳이 가르키는 곳을 출력한다.\n",
    "s[0][0] : 객체 s의 indexing이 0인 곳을 가르키는 객체의 indexing이 0인 곳을 가르킨다.\n",
    "s[0][0][0] : 객체 s의 indexing이 0 곳을 가르키는 객체의 indexing이 0인 객체의 indexing이 0인 곳을 가르킨다.\n",
    "파이썬은 문자를 str이라는 클래스의 객체로 가르키고 객체는 임의의 값이 할당될 때에 생성되기 때문에 indexing이 0인 곳은 항상 있게 되고 뒤에 [0][0][0]..을 많이 붙여도 항상 같은 객체를 가르키게 된다."
   ]
  },
  {
   "cell_type": "code",
   "execution_count": 14,
   "metadata": {
    "scrolled": true
   },
   "outputs": [
    {
     "ename": "IndexError",
     "evalue": "string index out of range",
     "output_type": "error",
     "traceback": [
      "\u001b[1;31m---------------------------------------------------------------------------\u001b[0m",
      "\u001b[1;31mIndexError\u001b[0m                                Traceback (most recent call last)",
      "\u001b[1;32m<ipython-input-14-6d81aee69bed>\u001b[0m in \u001b[0;36m<module>\u001b[1;34m()\u001b[0m\n\u001b[1;32m----> 1\u001b[1;33m \u001b[0mprint\u001b[0m\u001b[1;33m(\u001b[0m\u001b[0ms\u001b[0m\u001b[1;33m[\u001b[0m\u001b[1;33m-\u001b[0m\u001b[1;36m100\u001b[0m\u001b[1;33m]\u001b[0m\u001b[1;33m)\u001b[0m\u001b[1;33m\u001b[0m\u001b[0m\n\u001b[0m\u001b[0;32m      2\u001b[0m \u001b[0mprint\u001b[0m\u001b[1;33m(\u001b[0m\u001b[0ms\u001b[0m\u001b[1;33m[\u001b[0m\u001b[1;36m100\u001b[0m\u001b[1;33m]\u001b[0m\u001b[1;33m)\u001b[0m\u001b[1;33m\u001b[0m\u001b[0m\n",
      "\u001b[1;31mIndexError\u001b[0m: string index out of range"
     ]
    }
   ],
   "source": [
    "print(s[-100])\n",
    "print(s[100])"
   ]
  },
  {
   "cell_type": "markdown",
   "metadata": {},
   "source": [
    "객체 s의 indexing은 0 ~ 5 사이의 숫자이어야 한다."
   ]
  },
  {
   "cell_type": "code",
   "execution_count": 19,
   "metadata": {
    "scrolled": true
   },
   "outputs": [
    {
     "ename": "TypeError",
     "evalue": "string indices must be integers",
     "output_type": "error",
     "traceback": [
      "\u001b[1;31m---------------------------------------------------------------------------\u001b[0m",
      "\u001b[1;31mTypeError\u001b[0m                                 Traceback (most recent call last)",
      "\u001b[1;32m<ipython-input-19-0129537d5c27>\u001b[0m in \u001b[0;36m<module>\u001b[1;34m()\u001b[0m\n\u001b[1;32m----> 1\u001b[1;33m \u001b[0ms\u001b[0m\u001b[1;33m[\u001b[0m\u001b[1;36m0\u001b[0m\u001b[1;33m,\u001b[0m\u001b[1;36m5\u001b[0m\u001b[1;33m]\u001b[0m\u001b[1;33m\u001b[0m\u001b[0m\n\u001b[0m",
      "\u001b[1;31mTypeError\u001b[0m: string indices must be integers"
     ]
    }
   ],
   "source": [
    "print(s[-100,100])"
   ]
  },
  {
   "cell_type": "markdown",
   "metadata": {},
   "source": [
    "str 클래스에서 [ , ]는 지원하지 않는다."
   ]
  },
  {
   "cell_type": "code",
   "execution_count": 26,
   "metadata": {},
   "outputs": [
    {
     "name": "stdout",
     "output_type": "stream",
     "text": [
      "ytho\n"
     ]
    }
   ],
   "source": [
    "print(s[1:-1])"
   ]
  },
  {
   "cell_type": "markdown",
   "metadata": {},
   "source": [
    "str 클래스에서 indexing의 항목은 앞에서 부터 0, 뒤에서 부터 -1로 시작한다."
   ]
  },
  {
   "cell_type": "code",
   "execution_count": 22,
   "metadata": {},
   "outputs": [
    {
     "name": "stdout",
     "output_type": "stream",
     "text": [
      "\n"
     ]
    }
   ],
   "source": [
    "print(s[3:-3])"
   ]
  },
  {
   "cell_type": "markdown",
   "metadata": {},
   "source": [
    "str 클래스의 slicing에서 [a:b:c]는 indexing이 a이상 b미만, c의 차순으로 str객체를 반환한다."
   ]
  },
  {
   "cell_type": "code",
   "execution_count": 28,
   "metadata": {},
   "outputs": [
    {
     "name": "stdout",
     "output_type": "stream",
     "text": [
      "1 3 5 7 9 11 13 15 17 19 21 23 25 27 29 31 33 35 37 39 41 43 45 47 49 51 53 55 57 59 61 63 65 67 69 71 73 75 77 79 81 83 85 87 89 91 93 95 97 99 "
     ]
    }
   ],
   "source": [
    "for x in range(50):\n",
    "    print(2*x+1,end=' ')"
   ]
  },
  {
   "cell_type": "code",
   "execution_count": 29,
   "metadata": {},
   "outputs": [
    {
     "name": "stdout",
     "output_type": "stream",
     "text": [
      "2550\n"
     ]
    }
   ],
   "source": [
    "count = 0\n",
    "sum = 0\n",
    "while count < 100:\n",
    "    count = count + 2\n",
    "    sum = sum + count\n",
    "print(sum)"
   ]
  },
  {
   "cell_type": "code",
   "execution_count": 37,
   "metadata": {},
   "outputs": [
    {
     "name": "stdout",
     "output_type": "stream",
     "text": [
      "정수를 입력하시오1234\n",
      "숫자 역순은 4321 입니다\n"
     ]
    }
   ],
   "source": [
    "number = input('정수를 입력하시오')\n",
    "print(\"숫자 역순은 \" + number[::-1] + \" 입니다\")"
   ]
  },
  {
   "cell_type": "code",
   "execution_count": 44,
   "metadata": {
    "scrolled": false
   },
   "outputs": [
    {
     "name": "stdout",
     "output_type": "stream",
     "text": [
      "정수를 입력하시오50\n",
      "[2, 3, 5, 7, 11, 13, 17, 19, 23, 29, 31, 37, 41, 43, 47]\n"
     ]
    }
   ],
   "source": [
    "number = int(input('정수를 입력하시오'))\n",
    "primary_list = [2] # 소수가 저장될 list\n",
    "for x in range(3, number): #primary_list로 나누어 지지 않는 수이면 primary_list에 추가\n",
    "    is_primary = True\n",
    "    for y in primary_list:\n",
    "        if x % y == 0:\n",
    "            is_primary = False\n",
    "            break;\n",
    "    if is_primary:\n",
    "        primary_list.append(x)\n",
    "print(primary_list)\n",
    "    \n",
    "    "
   ]
  },
  {
   "cell_type": "markdown",
   "metadata": {},
   "source": [
    "![image](https://blogfiles.pstatic.net/MjAxODA5MzBfNTMg/MDAxNTM4Mjg4MzgzMzEz.y_5auVmxjdVhiaZIhkzuCUMpnGV2Spiv8N-D2hCVAegg.19sRdf_ASENmDyHa3871EpmPn3HPmWY5LiGbw64lmKYg.PNG.042cmy/homework_1_%286%29.PNG)"
   ]
  },
  {
   "cell_type": "code",
   "execution_count": 1,
   "metadata": {},
   "outputs": [
    {
     "name": "stdout",
     "output_type": "stream",
     "text": [
      "5\n",
      "*****\n",
      " ****\n",
      "  ***\n",
      "   **\n",
      "    *\n"
     ]
    }
   ],
   "source": [
    "N = int(input())\n",
    "for x in range(N): #이중 루프를 이용하여 역삼각형 출력\n",
    "    for y in range(x):\n",
    "        print(\" \",end='')\n",
    "    for y in range(N - x):\n",
    "        print(\"*\",end='')\n",
    "    print()\n"
   ]
  },
  {
   "cell_type": "code",
   "execution_count": 2,
   "metadata": {},
   "outputs": [
    {
     "name": "stdout",
     "output_type": "stream",
     "text": [
      "OneTwoThreeFourFiveSixSevenEightNineTen\n",
      "\n",
      "OneTwoThre\n",
      "eFourFiveS\n",
      "ixSevenEig\n",
      "htNineTen\n"
     ]
    }
   ],
   "source": [
    "N = input()\n",
    "for x in range(len(N)//10 + 1):\n",
    "    if( (x * 10 + 10) > len(N)):\n",
    "        print(N[x * 10 :])\n",
    "    else:\n",
    "        print(N[x * 10 : x * 10 + 10])\n"
   ]
  },
  {
   "cell_type": "code",
   "execution_count": 170,
   "metadata": {},
   "outputs": [
    {
     "name": "stdout",
     "output_type": "stream",
     "text": [
      "13\n",
      "3\n"
     ]
    }
   ],
   "source": [
    "N = int(input())\n",
    "result = 0\n",
    "# N이 10 미만, 이상 크게 두가지 경우로 나눔\n",
    "if(N < 10):\n",
    "    if N== 0 or N== 1 or N==2 or N==4 or N==7 :\n",
    "        result = -1\n",
    "    elif N == 3 or N == 5 :\n",
    "        result = 1\n",
    "    elif N == 6 :\n",
    "        result = 2\n",
    "    elif N == 8 : \n",
    "        result = 1 + 1\n",
    "    elif N == 9 :\n",
    "        result = 3\n",
    "else :\n",
    "    duplicateMass = N % 10 # 10씩 증가하면 5kg 2자루를 추가하면 되기 때문에 일의 자리를 기준으로 판단\n",
    "    if duplicateMass == 0 :\n",
    "        result = N // 5\n",
    "    elif duplicateMass == 1 :\n",
    "        result = (N - 6) // 5 + 2\n",
    "    elif duplicateMass == 2 :\n",
    "        result = (N - 12) // 5 + 4\n",
    "    elif duplicateMass == 3 :\n",
    "        result = (N - 3) // 5 + 1\n",
    "    elif duplicateMass == 4 :\n",
    "        result = (N - 9) // 5 + 3\n",
    "    elif duplicateMass == 5 :\n",
    "        result = N // 5\n",
    "    elif duplicateMass == 6 :\n",
    "        result = (N - 6) // 5 + 2\n",
    "    elif duplicateMass == 7 :\n",
    "        result = (N - 12) // 5 + 4\n",
    "    elif duplicateMass == 8 :\n",
    "        result = (N - 3) // 5 + 1\n",
    "    else :\n",
    "        result = (N - 9) // 5 + 3\n",
    "print (result)"
   ]
  }
 ],
 "metadata": {
  "kernelspec": {
   "display_name": "Python 3",
   "language": "python",
   "name": "python3"
  },
  "language_info": {
   "codemirror_mode": {
    "name": "ipython",
    "version": 3
   },
   "file_extension": ".py",
   "mimetype": "text/x-python",
   "name": "python",
   "nbconvert_exporter": "python",
   "pygments_lexer": "ipython3",
   "version": "3.6.5"
  }
 },
 "nbformat": 4,
 "nbformat_minor": 2
}
